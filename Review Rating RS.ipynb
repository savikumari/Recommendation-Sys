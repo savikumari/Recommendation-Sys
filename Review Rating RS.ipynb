{
 "cells": [
  {
   "cell_type": "code",
   "execution_count": 1,
   "id": "0807226a",
   "metadata": {},
   "outputs": [],
   "source": [
    "import pandas as pd\n",
    "import numpy as np\n",
    "from sklearn.model_selection import train_test_split\n",
    "import matplotlib.pyplot as plt\n",
    "import seaborn as sns\n",
    "from sklearn.preprocessing import StandardScaler, LabelEncoder\n",
    "from sklearn.cluster import KMeans\n",
    "from sklearn.linear_model import LogisticRegression\n",
    "from sklearn.tree import DecisionTreeClassifier\n",
    "from sklearn.metrics import accuracy_score, classification_report"
   ]
  },
  {
   "cell_type": "code",
   "execution_count": 2,
   "id": "d15edaa6",
   "metadata": {},
   "outputs": [
    {
     "data": {
      "text/html": [
       "<div>\n",
       "<style scoped>\n",
       "    .dataframe tbody tr th:only-of-type {\n",
       "        vertical-align: middle;\n",
       "    }\n",
       "\n",
       "    .dataframe tbody tr th {\n",
       "        vertical-align: top;\n",
       "    }\n",
       "\n",
       "    .dataframe thead th {\n",
       "        text-align: right;\n",
       "    }\n",
       "</style>\n",
       "<table border=\"1\" class=\"dataframe\">\n",
       "  <thead>\n",
       "    <tr style=\"text-align: right;\">\n",
       "      <th></th>\n",
       "      <th>Agency id</th>\n",
       "      <th>Agency name</th>\n",
       "      <th>Location</th>\n",
       "      <th>Service type</th>\n",
       "      <th>User id</th>\n",
       "      <th>Customer name</th>\n",
       "      <th>Review date</th>\n",
       "      <th>Rating</th>\n",
       "      <th>Review type</th>\n",
       "      <th>Response top north method position song husband end town analysis real run special suggest mission stage.</th>\n",
       "      <th>Response date</th>\n",
       "    </tr>\n",
       "  </thead>\n",
       "  <tbody>\n",
       "    <tr>\n",
       "      <th>0</th>\n",
       "      <td>A001</td>\n",
       "      <td>Chang-Fisher</td>\n",
       "      <td>Tammyfort, Iraq</td>\n",
       "      <td>Adventure Travel</td>\n",
       "      <td>R001</td>\n",
       "      <td>Sandra Faulkner</td>\n",
       "      <td>5/5/2023</td>\n",
       "      <td>4</td>\n",
       "      <td>Through despite cause cause believe son would ...</td>\n",
       "      <td>Line beyond its particularly tree whom local t...</td>\n",
       "      <td>3/9/2024</td>\n",
       "    </tr>\n",
       "    <tr>\n",
       "      <th>1</th>\n",
       "      <td>A002</td>\n",
       "      <td>Summers, Barnett and Smith</td>\n",
       "      <td>Claytonmouth, Ecuador</td>\n",
       "      <td>Cruises</td>\n",
       "      <td>R002</td>\n",
       "      <td>Michele Brown</td>\n",
       "      <td>7/12/2024</td>\n",
       "      <td>5</td>\n",
       "      <td>Develop sound central myself before year thems...</td>\n",
       "      <td>NaN</td>\n",
       "      <td>NaN</td>\n",
       "    </tr>\n",
       "    <tr>\n",
       "      <th>2</th>\n",
       "      <td>A003</td>\n",
       "      <td>Harris, Lloyd and Payne</td>\n",
       "      <td>Seanfurt, Ghana</td>\n",
       "      <td>Adventure Travel</td>\n",
       "      <td>R003</td>\n",
       "      <td>Donna Lopez</td>\n",
       "      <td>12/23/2022</td>\n",
       "      <td>3</td>\n",
       "      <td>Party prevent live bed serious theory.</td>\n",
       "      <td>NaN</td>\n",
       "      <td>NaN</td>\n",
       "    </tr>\n",
       "    <tr>\n",
       "      <th>3</th>\n",
       "      <td>A004</td>\n",
       "      <td>Kirby Ltd</td>\n",
       "      <td>Masseyhaven, Falkland Islands (Malvinas)</td>\n",
       "      <td>Cruises</td>\n",
       "      <td>R004</td>\n",
       "      <td>Cynthia Lewis</td>\n",
       "      <td>1/9/2024</td>\n",
       "      <td>5</td>\n",
       "      <td>Stay information every manage political record...</td>\n",
       "      <td>Rule bring determine some forward staff beyond.</td>\n",
       "      <td>3/5/2024</td>\n",
       "    </tr>\n",
       "    <tr>\n",
       "      <th>4</th>\n",
       "      <td>A005</td>\n",
       "      <td>Robinson, Montoya and Walters</td>\n",
       "      <td>North Davidborough, New Caledonia</td>\n",
       "      <td>Group Travel</td>\n",
       "      <td>R005</td>\n",
       "      <td>Barbara Davis</td>\n",
       "      <td>5/8/2024</td>\n",
       "      <td>2</td>\n",
       "      <td>Already against which continue buy decision song.</td>\n",
       "      <td>NaN</td>\n",
       "      <td>NaN</td>\n",
       "    </tr>\n",
       "    <tr>\n",
       "      <th>5</th>\n",
       "      <td>A006</td>\n",
       "      <td>Johnson, Coleman and Garcia</td>\n",
       "      <td>Chadland, Oman</td>\n",
       "      <td>Custom Itineraries</td>\n",
       "      <td>R006</td>\n",
       "      <td>Jeffrey Brown</td>\n",
       "      <td>7/28/2023</td>\n",
       "      <td>1</td>\n",
       "      <td>Others record hospital employee toward like.</td>\n",
       "      <td>NaN</td>\n",
       "      <td>NaN</td>\n",
       "    </tr>\n",
       "    <tr>\n",
       "      <th>6</th>\n",
       "      <td>A007</td>\n",
       "      <td>Jackson, Chambers and Levy</td>\n",
       "      <td>Port Ericaburgh, Guam</td>\n",
       "      <td>Group Travel</td>\n",
       "      <td>R007</td>\n",
       "      <td>Autumn Morse</td>\n",
       "      <td>12/29/2023</td>\n",
       "      <td>5</td>\n",
       "      <td>Actually race tonight themselves true power ho...</td>\n",
       "      <td>Night actually score from animal exactly drive...</td>\n",
       "      <td>4/18/2024</td>\n",
       "    </tr>\n",
       "    <tr>\n",
       "      <th>7</th>\n",
       "      <td>A008</td>\n",
       "      <td>Howard, Arroyo and Schultz</td>\n",
       "      <td>Lake Kyle, San Marino</td>\n",
       "      <td>Cruises</td>\n",
       "      <td>R008</td>\n",
       "      <td>Matthew Smith</td>\n",
       "      <td>12/27/2022</td>\n",
       "      <td>1</td>\n",
       "      <td>Civil development large report purpose themsel...</td>\n",
       "      <td>Close ask reduce land those traditional page.</td>\n",
       "      <td>12/27/2022</td>\n",
       "    </tr>\n",
       "    <tr>\n",
       "      <th>8</th>\n",
       "      <td>A009</td>\n",
       "      <td>Simpson LLC</td>\n",
       "      <td>Williamschester, Comoros</td>\n",
       "      <td>Cruises</td>\n",
       "      <td>R009</td>\n",
       "      <td>Tonya Irwin</td>\n",
       "      <td>5/11/2024</td>\n",
       "      <td>4</td>\n",
       "      <td>Would I question first degree response able.</td>\n",
       "      <td>Partner couple part cup few read consider litt...</td>\n",
       "      <td>7/13/2024</td>\n",
       "    </tr>\n",
       "    <tr>\n",
       "      <th>9</th>\n",
       "      <td>A010</td>\n",
       "      <td>Roth, Newman and Wilson</td>\n",
       "      <td>West Melissa, Armenia</td>\n",
       "      <td>Cruises</td>\n",
       "      <td>R010</td>\n",
       "      <td>Michael Grant</td>\n",
       "      <td>5/11/2023</td>\n",
       "      <td>4</td>\n",
       "      <td>Travel among see red pretty Republican total p...</td>\n",
       "      <td>NaN</td>\n",
       "      <td>NaN</td>\n",
       "    </tr>\n",
       "  </tbody>\n",
       "</table>\n",
       "</div>"
      ],
      "text/plain": [
       "  Agency id                    Agency name  \\\n",
       "0      A001                   Chang-Fisher   \n",
       "1      A002     Summers, Barnett and Smith   \n",
       "2      A003        Harris, Lloyd and Payne   \n",
       "3      A004                      Kirby Ltd   \n",
       "4      A005  Robinson, Montoya and Walters   \n",
       "5      A006    Johnson, Coleman and Garcia   \n",
       "6      A007     Jackson, Chambers and Levy   \n",
       "7      A008     Howard, Arroyo and Schultz   \n",
       "8      A009                    Simpson LLC   \n",
       "9      A010        Roth, Newman and Wilson   \n",
       "\n",
       "                                   Location        Service type User id  \\\n",
       "0                           Tammyfort, Iraq    Adventure Travel    R001   \n",
       "1                     Claytonmouth, Ecuador             Cruises    R002   \n",
       "2                           Seanfurt, Ghana    Adventure Travel    R003   \n",
       "3  Masseyhaven, Falkland Islands (Malvinas)             Cruises    R004   \n",
       "4         North Davidborough, New Caledonia        Group Travel    R005   \n",
       "5                            Chadland, Oman  Custom Itineraries    R006   \n",
       "6                     Port Ericaburgh, Guam        Group Travel    R007   \n",
       "7                     Lake Kyle, San Marino             Cruises    R008   \n",
       "8                  Williamschester, Comoros             Cruises    R009   \n",
       "9                     West Melissa, Armenia             Cruises    R010   \n",
       "\n",
       "     Customer name Review date  Rating  \\\n",
       "0  Sandra Faulkner    5/5/2023       4   \n",
       "1    Michele Brown   7/12/2024       5   \n",
       "2      Donna Lopez  12/23/2022       3   \n",
       "3    Cynthia Lewis    1/9/2024       5   \n",
       "4    Barbara Davis    5/8/2024       2   \n",
       "5    Jeffrey Brown   7/28/2023       1   \n",
       "6     Autumn Morse  12/29/2023       5   \n",
       "7    Matthew Smith  12/27/2022       1   \n",
       "8      Tonya Irwin   5/11/2024       4   \n",
       "9    Michael Grant   5/11/2023       4   \n",
       "\n",
       "                                         Review type  \\\n",
       "0  Through despite cause cause believe son would ...   \n",
       "1  Develop sound central myself before year thems...   \n",
       "2             Party prevent live bed serious theory.   \n",
       "3  Stay information every manage political record...   \n",
       "4  Already against which continue buy decision song.   \n",
       "5       Others record hospital employee toward like.   \n",
       "6  Actually race tonight themselves true power ho...   \n",
       "7  Civil development large report purpose themsel...   \n",
       "8       Would I question first degree response able.   \n",
       "9  Travel among see red pretty Republican total p...   \n",
       "\n",
       "  Response top north method position song husband end town analysis real run special suggest mission stage.  \\\n",
       "0  Line beyond its particularly tree whom local t...                                                          \n",
       "1                                                NaN                                                          \n",
       "2                                                NaN                                                          \n",
       "3    Rule bring determine some forward staff beyond.                                                          \n",
       "4                                                NaN                                                          \n",
       "5                                                NaN                                                          \n",
       "6  Night actually score from animal exactly drive...                                                          \n",
       "7      Close ask reduce land those traditional page.                                                          \n",
       "8  Partner couple part cup few read consider litt...                                                          \n",
       "9                                                NaN                                                          \n",
       "\n",
       "  Response date  \n",
       "0      3/9/2024  \n",
       "1           NaN  \n",
       "2           NaN  \n",
       "3      3/5/2024  \n",
       "4           NaN  \n",
       "5           NaN  \n",
       "6     4/18/2024  \n",
       "7    12/27/2022  \n",
       "8     7/13/2024  \n",
       "9           NaN  "
      ]
     },
     "execution_count": 2,
     "metadata": {},
     "output_type": "execute_result"
    }
   ],
   "source": [
    "# Load the data\n",
    "df = pd.read_csv(r'C:\\Users\\HP\\Desktop\\travel_agencies_reviews_ratings.csv')\n",
    "\n",
    "# Display basic information about the data\n",
    "df.head(10)"
   ]
  },
  {
   "cell_type": "code",
   "execution_count": 3,
   "id": "f191df7c",
   "metadata": {
    "scrolled": true
   },
   "outputs": [
    {
     "name": "stdout",
     "output_type": "stream",
     "text": [
      "<class 'pandas.core.frame.DataFrame'>\n",
      "RangeIndex: 1000 entries, 0 to 999\n",
      "Data columns (total 11 columns):\n",
      " #   Column                                                                                                     Non-Null Count  Dtype \n",
      "---  ------                                                                                                     --------------  ----- \n",
      " 0   Agency id                                                                                                  1000 non-null   object\n",
      " 1   Agency name                                                                                                1000 non-null   object\n",
      " 2   Location                                                                                                   1000 non-null   object\n",
      " 3   Service type                                                                                               1000 non-null   object\n",
      " 4   User id                                                                                                    1000 non-null   object\n",
      " 5   Customer name                                                                                              1000 non-null   object\n",
      " 6   Review date                                                                                                1000 non-null   object\n",
      " 7   Rating                                                                                                     1000 non-null   int64 \n",
      " 8   Review type                                                                                                1000 non-null   object\n",
      " 9   Response top north method position song husband end town analysis real run special suggest mission stage.  484 non-null    object\n",
      " 10  Response date                                                                                              484 non-null    object\n",
      "dtypes: int64(1), object(10)\n",
      "memory usage: 86.1+ KB\n"
     ]
    }
   ],
   "source": [
    "df.info()"
   ]
  },
  {
   "cell_type": "code",
   "execution_count": 4,
   "id": "17bfde53",
   "metadata": {},
   "outputs": [
    {
     "data": {
      "text/html": [
       "<div>\n",
       "<style scoped>\n",
       "    .dataframe tbody tr th:only-of-type {\n",
       "        vertical-align: middle;\n",
       "    }\n",
       "\n",
       "    .dataframe tbody tr th {\n",
       "        vertical-align: top;\n",
       "    }\n",
       "\n",
       "    .dataframe thead th {\n",
       "        text-align: right;\n",
       "    }\n",
       "</style>\n",
       "<table border=\"1\" class=\"dataframe\">\n",
       "  <thead>\n",
       "    <tr style=\"text-align: right;\">\n",
       "      <th></th>\n",
       "      <th>Rating</th>\n",
       "    </tr>\n",
       "  </thead>\n",
       "  <tbody>\n",
       "    <tr>\n",
       "      <th>count</th>\n",
       "      <td>1000.000000</td>\n",
       "    </tr>\n",
       "    <tr>\n",
       "      <th>mean</th>\n",
       "      <td>2.982000</td>\n",
       "    </tr>\n",
       "    <tr>\n",
       "      <th>std</th>\n",
       "      <td>1.420455</td>\n",
       "    </tr>\n",
       "    <tr>\n",
       "      <th>min</th>\n",
       "      <td>1.000000</td>\n",
       "    </tr>\n",
       "    <tr>\n",
       "      <th>25%</th>\n",
       "      <td>2.000000</td>\n",
       "    </tr>\n",
       "    <tr>\n",
       "      <th>50%</th>\n",
       "      <td>3.000000</td>\n",
       "    </tr>\n",
       "    <tr>\n",
       "      <th>75%</th>\n",
       "      <td>4.000000</td>\n",
       "    </tr>\n",
       "    <tr>\n",
       "      <th>max</th>\n",
       "      <td>5.000000</td>\n",
       "    </tr>\n",
       "  </tbody>\n",
       "</table>\n",
       "</div>"
      ],
      "text/plain": [
       "            Rating\n",
       "count  1000.000000\n",
       "mean      2.982000\n",
       "std       1.420455\n",
       "min       1.000000\n",
       "25%       2.000000\n",
       "50%       3.000000\n",
       "75%       4.000000\n",
       "max       5.000000"
      ]
     },
     "execution_count": 4,
     "metadata": {},
     "output_type": "execute_result"
    }
   ],
   "source": [
    "df.describe()"
   ]
  },
  {
   "cell_type": "code",
   "execution_count": 5,
   "id": "39a2636c",
   "metadata": {},
   "outputs": [
    {
     "data": {
      "text/plain": [
       "Agency id                                                                                                      0\n",
       "Agency name                                                                                                    0\n",
       "Location                                                                                                       0\n",
       "Service type                                                                                                   0\n",
       "User id                                                                                                        0\n",
       "Customer name                                                                                                  0\n",
       "Review date                                                                                                    0\n",
       "Rating                                                                                                         0\n",
       "Review type                                                                                                    0\n",
       "Response top north method position song husband end town analysis real run special suggest mission stage.    516\n",
       "Response date                                                                                                516\n",
       "dtype: int64"
      ]
     },
     "execution_count": 5,
     "metadata": {},
     "output_type": "execute_result"
    }
   ],
   "source": [
    "df.isnull().sum()"
   ]
  },
  {
   "cell_type": "code",
   "execution_count": 6,
   "id": "ed664a41",
   "metadata": {},
   "outputs": [
    {
     "data": {
      "text/plain": [
       "Index(['Agency id', 'Agency name', 'Location', 'Service type', 'User id',\n",
       "       'Customer name', 'Review date', 'Rating', 'Review type',\n",
       "       'Response top north method position song husband end town analysis real run special suggest mission stage.',\n",
       "       'Response date'],\n",
       "      dtype='object')"
      ]
     },
     "execution_count": 6,
     "metadata": {},
     "output_type": "execute_result"
    }
   ],
   "source": [
    "df.columns"
   ]
  },
  {
   "cell_type": "code",
   "execution_count": 7,
   "id": "aca71bf8",
   "metadata": {},
   "outputs": [],
   "source": [
    "# Select relevant columns\n",
    "df = df[['Agency id', 'Agency name', 'Location', 'Service type', 'User id',\n",
    "       'Customer name', 'Review date', 'Rating', 'Review type']]"
   ]
  },
  {
   "cell_type": "code",
   "execution_count": 8,
   "id": "7a61e343",
   "metadata": {},
   "outputs": [
    {
     "data": {
      "text/html": [
       "<div>\n",
       "<style scoped>\n",
       "    .dataframe tbody tr th:only-of-type {\n",
       "        vertical-align: middle;\n",
       "    }\n",
       "\n",
       "    .dataframe tbody tr th {\n",
       "        vertical-align: top;\n",
       "    }\n",
       "\n",
       "    .dataframe thead th {\n",
       "        text-align: right;\n",
       "    }\n",
       "</style>\n",
       "<table border=\"1\" class=\"dataframe\">\n",
       "  <thead>\n",
       "    <tr style=\"text-align: right;\">\n",
       "      <th></th>\n",
       "      <th>Agency id</th>\n",
       "      <th>Agency name</th>\n",
       "      <th>Location</th>\n",
       "      <th>Service type</th>\n",
       "      <th>User id</th>\n",
       "      <th>Customer name</th>\n",
       "      <th>Review date</th>\n",
       "      <th>Rating</th>\n",
       "      <th>Review type</th>\n",
       "    </tr>\n",
       "  </thead>\n",
       "  <tbody>\n",
       "    <tr>\n",
       "      <th>0</th>\n",
       "      <td>A001</td>\n",
       "      <td>Chang-Fisher</td>\n",
       "      <td>Tammyfort, Iraq</td>\n",
       "      <td>Adventure Travel</td>\n",
       "      <td>R001</td>\n",
       "      <td>Sandra Faulkner</td>\n",
       "      <td>5/5/2023</td>\n",
       "      <td>4</td>\n",
       "      <td>Through despite cause cause believe son would ...</td>\n",
       "    </tr>\n",
       "    <tr>\n",
       "      <th>1</th>\n",
       "      <td>A002</td>\n",
       "      <td>Summers, Barnett and Smith</td>\n",
       "      <td>Claytonmouth, Ecuador</td>\n",
       "      <td>Cruises</td>\n",
       "      <td>R002</td>\n",
       "      <td>Michele Brown</td>\n",
       "      <td>7/12/2024</td>\n",
       "      <td>5</td>\n",
       "      <td>Develop sound central myself before year thems...</td>\n",
       "    </tr>\n",
       "    <tr>\n",
       "      <th>2</th>\n",
       "      <td>A003</td>\n",
       "      <td>Harris, Lloyd and Payne</td>\n",
       "      <td>Seanfurt, Ghana</td>\n",
       "      <td>Adventure Travel</td>\n",
       "      <td>R003</td>\n",
       "      <td>Donna Lopez</td>\n",
       "      <td>12/23/2022</td>\n",
       "      <td>3</td>\n",
       "      <td>Party prevent live bed serious theory.</td>\n",
       "    </tr>\n",
       "    <tr>\n",
       "      <th>3</th>\n",
       "      <td>A004</td>\n",
       "      <td>Kirby Ltd</td>\n",
       "      <td>Masseyhaven, Falkland Islands (Malvinas)</td>\n",
       "      <td>Cruises</td>\n",
       "      <td>R004</td>\n",
       "      <td>Cynthia Lewis</td>\n",
       "      <td>1/9/2024</td>\n",
       "      <td>5</td>\n",
       "      <td>Stay information every manage political record...</td>\n",
       "    </tr>\n",
       "    <tr>\n",
       "      <th>4</th>\n",
       "      <td>A005</td>\n",
       "      <td>Robinson, Montoya and Walters</td>\n",
       "      <td>North Davidborough, New Caledonia</td>\n",
       "      <td>Group Travel</td>\n",
       "      <td>R005</td>\n",
       "      <td>Barbara Davis</td>\n",
       "      <td>5/8/2024</td>\n",
       "      <td>2</td>\n",
       "      <td>Already against which continue buy decision song.</td>\n",
       "    </tr>\n",
       "  </tbody>\n",
       "</table>\n",
       "</div>"
      ],
      "text/plain": [
       "  Agency id                    Agency name  \\\n",
       "0      A001                   Chang-Fisher   \n",
       "1      A002     Summers, Barnett and Smith   \n",
       "2      A003        Harris, Lloyd and Payne   \n",
       "3      A004                      Kirby Ltd   \n",
       "4      A005  Robinson, Montoya and Walters   \n",
       "\n",
       "                                   Location      Service type User id  \\\n",
       "0                           Tammyfort, Iraq  Adventure Travel    R001   \n",
       "1                     Claytonmouth, Ecuador           Cruises    R002   \n",
       "2                           Seanfurt, Ghana  Adventure Travel    R003   \n",
       "3  Masseyhaven, Falkland Islands (Malvinas)           Cruises    R004   \n",
       "4         North Davidborough, New Caledonia      Group Travel    R005   \n",
       "\n",
       "     Customer name Review date  Rating  \\\n",
       "0  Sandra Faulkner    5/5/2023       4   \n",
       "1    Michele Brown   7/12/2024       5   \n",
       "2      Donna Lopez  12/23/2022       3   \n",
       "3    Cynthia Lewis    1/9/2024       5   \n",
       "4    Barbara Davis    5/8/2024       2   \n",
       "\n",
       "                                         Review type  \n",
       "0  Through despite cause cause believe son would ...  \n",
       "1  Develop sound central myself before year thems...  \n",
       "2             Party prevent live bed serious theory.  \n",
       "3  Stay information every manage political record...  \n",
       "4  Already against which continue buy decision song.  "
      ]
     },
     "execution_count": 8,
     "metadata": {},
     "output_type": "execute_result"
    }
   ],
   "source": [
    "df.head(5)"
   ]
  },
  {
   "cell_type": "code",
   "execution_count": 9,
   "id": "7eb76b5b",
   "metadata": {},
   "outputs": [
    {
     "data": {
      "text/html": [
       "<div>\n",
       "<style scoped>\n",
       "    .dataframe tbody tr th:only-of-type {\n",
       "        vertical-align: middle;\n",
       "    }\n",
       "\n",
       "    .dataframe tbody tr th {\n",
       "        vertical-align: top;\n",
       "    }\n",
       "\n",
       "    .dataframe thead th {\n",
       "        text-align: right;\n",
       "    }\n",
       "</style>\n",
       "<table border=\"1\" class=\"dataframe\">\n",
       "  <thead>\n",
       "    <tr style=\"text-align: right;\">\n",
       "      <th></th>\n",
       "      <th>Agency id</th>\n",
       "      <th>Agency name</th>\n",
       "      <th>Location</th>\n",
       "      <th>Service type</th>\n",
       "      <th>User id</th>\n",
       "      <th>Customer name</th>\n",
       "      <th>Review date</th>\n",
       "      <th>Rating</th>\n",
       "      <th>Review type</th>\n",
       "    </tr>\n",
       "  </thead>\n",
       "  <tbody>\n",
       "    <tr>\n",
       "      <th>995</th>\n",
       "      <td>A996</td>\n",
       "      <td>Sweeney-Lewis</td>\n",
       "      <td>Longshire, Jordan</td>\n",
       "      <td>Custom Itineraries</td>\n",
       "      <td>R996</td>\n",
       "      <td>William Bailey</td>\n",
       "      <td>1/29/2023</td>\n",
       "      <td>4</td>\n",
       "      <td>Each suggest former important later debate pro...</td>\n",
       "    </tr>\n",
       "    <tr>\n",
       "      <th>996</th>\n",
       "      <td>A997</td>\n",
       "      <td>Ponce LLC</td>\n",
       "      <td>New Rachel, Mali</td>\n",
       "      <td>Adventure Travel</td>\n",
       "      <td>R997</td>\n",
       "      <td>Brandy Hernandez</td>\n",
       "      <td>2/10/2024</td>\n",
       "      <td>1</td>\n",
       "      <td>Game worry hear site especially least.</td>\n",
       "    </tr>\n",
       "    <tr>\n",
       "      <th>997</th>\n",
       "      <td>A998</td>\n",
       "      <td>Johnson LLC</td>\n",
       "      <td>Matthewbury, Belgium</td>\n",
       "      <td>Group Travel</td>\n",
       "      <td>R998</td>\n",
       "      <td>Max Graves</td>\n",
       "      <td>11/6/2023</td>\n",
       "      <td>2</td>\n",
       "      <td>Character street politics water term inside le...</td>\n",
       "    </tr>\n",
       "    <tr>\n",
       "      <th>998</th>\n",
       "      <td>A999</td>\n",
       "      <td>Lane, Herrera and Middleton</td>\n",
       "      <td>North Davidville, Tuvalu</td>\n",
       "      <td>Cruises</td>\n",
       "      <td>R999</td>\n",
       "      <td>Pamela Powers</td>\n",
       "      <td>6/15/2023</td>\n",
       "      <td>5</td>\n",
       "      <td>Management member hospital who produce build.</td>\n",
       "    </tr>\n",
       "    <tr>\n",
       "      <th>999</th>\n",
       "      <td>A1000</td>\n",
       "      <td>French-Williams</td>\n",
       "      <td>Laurenhaven, Montserrat</td>\n",
       "      <td>Group Travel</td>\n",
       "      <td>R1000</td>\n",
       "      <td>Mark Silva</td>\n",
       "      <td>10/16/2022</td>\n",
       "      <td>3</td>\n",
       "      <td>Gun beautiful Mrs fish others future country.</td>\n",
       "    </tr>\n",
       "  </tbody>\n",
       "</table>\n",
       "</div>"
      ],
      "text/plain": [
       "    Agency id                  Agency name                  Location  \\\n",
       "995      A996                Sweeney-Lewis         Longshire, Jordan   \n",
       "996      A997                    Ponce LLC          New Rachel, Mali   \n",
       "997      A998                  Johnson LLC      Matthewbury, Belgium   \n",
       "998      A999  Lane, Herrera and Middleton  North Davidville, Tuvalu   \n",
       "999     A1000              French-Williams   Laurenhaven, Montserrat   \n",
       "\n",
       "           Service type User id     Customer name Review date  Rating  \\\n",
       "995  Custom Itineraries    R996    William Bailey   1/29/2023       4   \n",
       "996    Adventure Travel    R997  Brandy Hernandez   2/10/2024       1   \n",
       "997        Group Travel    R998        Max Graves   11/6/2023       2   \n",
       "998             Cruises    R999     Pamela Powers   6/15/2023       5   \n",
       "999        Group Travel   R1000        Mark Silva  10/16/2022       3   \n",
       "\n",
       "                                           Review type  \n",
       "995  Each suggest former important later debate pro...  \n",
       "996             Game worry hear site especially least.  \n",
       "997  Character street politics water term inside le...  \n",
       "998      Management member hospital who produce build.  \n",
       "999      Gun beautiful Mrs fish others future country.  "
      ]
     },
     "execution_count": 9,
     "metadata": {},
     "output_type": "execute_result"
    }
   ],
   "source": [
    "df.tail()"
   ]
  },
  {
   "cell_type": "code",
   "execution_count": 10,
   "id": "d96cb130",
   "metadata": {},
   "outputs": [
    {
     "data": {
      "text/plain": [
       "(1000, 9)"
      ]
     },
     "execution_count": 10,
     "metadata": {},
     "output_type": "execute_result"
    }
   ],
   "source": [
    "df.shape"
   ]
  },
  {
   "cell_type": "code",
   "execution_count": 11,
   "id": "50a0dade",
   "metadata": {},
   "outputs": [],
   "source": [
    "# Sample the data\n",
    "df = df.iloc[:10000,:]"
   ]
  },
  {
   "cell_type": "code",
   "execution_count": 12,
   "id": "1904c544",
   "metadata": {},
   "outputs": [
    {
     "data": {
      "text/plain": [
       "<AxesSubplot:>"
      ]
     },
     "execution_count": 12,
     "metadata": {},
     "output_type": "execute_result"
    },
    {
     "data": {
      "image/png": "[encoded data removed]",
      "text/plain": [
       "<Figure size 432x288 with 1 Axes>"
      ]
     },
     "metadata": {
      "needs_background": "light"
     },
     "output_type": "display_data"
    }
   ],
   "source": [
    "# Plot the distribution of Rating\n",
    "df['Rating'].value_counts().plot(kind='bar')"
   ]
  },
  {
   "cell_type": "code",
   "execution_count": 13,
   "id": "a05b8c38",
   "metadata": {},
   "outputs": [
    {
     "data": {
      "text/plain": [
       "5"
      ]
     },
     "execution_count": 13,
     "metadata": {},
     "output_type": "execute_result"
    }
   ],
   "source": [
    "# Display the first review rating\n",
    "df['Rating'][1]"
   ]
  },
  {
   "cell_type": "code",
   "execution_count": 14,
   "id": "a92bcef0",
   "metadata": {},
   "outputs": [
    {
     "name": "stdout",
     "output_type": "stream",
     "text": [
      "  Agency id                    Agency name  \\\n",
      "0      A001                   Chang-Fisher   \n",
      "1      A002     Summers, Barnett and Smith   \n",
      "2      A003        Harris, Lloyd and Payne   \n",
      "3      A004                      Kirby Ltd   \n",
      "4      A005  Robinson, Montoya and Walters   \n",
      "\n",
      "                                   Location      Service type User id  \\\n",
      "0                           Tammyfort, Iraq  Adventure Travel    R001   \n",
      "1                     Claytonmouth, Ecuador           Cruises    R002   \n",
      "2                           Seanfurt, Ghana  Adventure Travel    R003   \n",
      "3  Masseyhaven, Falkland Islands (Malvinas)           Cruises    R004   \n",
      "4         North Davidborough, New Caledonia      Group Travel    R005   \n",
      "\n",
      "     Customer name Review date  Rating  \\\n",
      "0  Sandra Faulkner    5/5/2023       4   \n",
      "1    Michele Brown   7/12/2024       5   \n",
      "2      Donna Lopez  12/23/2022       3   \n",
      "3    Cynthia Lewis    1/9/2024       5   \n",
      "4    Barbara Davis    5/8/2024       2   \n",
      "\n",
      "                                         Review type  \n",
      "0  Through despite cause cause believe son would ...  \n",
      "1  Develop sound central myself before year thems...  \n",
      "2             Party prevent live bed serious theory.  \n",
      "3  Stay information every manage political record...  \n",
      "4  Already against which continue buy decision song.  \n"
     ]
    }
   ],
   "source": [
    "print(df.head())"
   ]
  },
  {
   "cell_type": "code",
   "execution_count": 15,
   "id": "a388a1f6",
   "metadata": {},
   "outputs": [
    {
     "name": "stdout",
     "output_type": "stream",
     "text": [
      "\n",
      "First 5 Rows:\n",
      "  Agency id                    Agency name  \\\n",
      "0      A001                   Chang-Fisher   \n",
      "1      A002     Summers, Barnett and Smith   \n",
      "2      A003        Harris, Lloyd and Payne   \n",
      "3      A004                      Kirby Ltd   \n",
      "4      A005  Robinson, Montoya and Walters   \n",
      "\n",
      "                                   Location      Service type User id  \\\n",
      "0                           Tammyfort, Iraq  Adventure Travel    R001   \n",
      "1                     Claytonmouth, Ecuador           Cruises    R002   \n",
      "2                           Seanfurt, Ghana  Adventure Travel    R003   \n",
      "3  Masseyhaven, Falkland Islands (Malvinas)           Cruises    R004   \n",
      "4         North Davidborough, New Caledonia      Group Travel    R005   \n",
      "\n",
      "     Customer name Review date  Rating  \\\n",
      "0  Sandra Faulkner    5/5/2023       4   \n",
      "1    Michele Brown   7/12/2024       5   \n",
      "2      Donna Lopez  12/23/2022       3   \n",
      "3    Cynthia Lewis    1/9/2024       5   \n",
      "4    Barbara Davis    5/8/2024       2   \n",
      "\n",
      "                                         Review type  \n",
      "0  Through despite cause cause believe son would ...  \n",
      "1  Develop sound central myself before year thems...  \n",
      "2             Party prevent live bed serious theory.  \n",
      "3  Stay information every manage political record...  \n",
      "4  Already against which continue buy decision song.  \n",
      "\n",
      "Missing Values:\n",
      "Agency id        0\n",
      "Agency name      0\n",
      "Location         0\n",
      "Service type     0\n",
      "User id          0\n",
      "Customer name    0\n",
      "Review date      0\n",
      "Rating           0\n",
      "Review type      0\n",
      "dtype: int64\n"
     ]
    }
   ],
   "source": [
    "print(\"\\nFirst 5 Rows:\")\n",
    "print(df.head())\n",
    "\n",
    "# Check for missing values\n",
    "print(\"\\nMissing Values:\")\n",
    "print(df.isnull().sum())"
   ]
  },
  {
   "cell_type": "code",
   "execution_count": 16,
   "id": "e82b9ca2",
   "metadata": {},
   "outputs": [
    {
     "data": {
      "text/html": [
       "<div>\n",
       "<style scoped>\n",
       "    .dataframe tbody tr th:only-of-type {\n",
       "        vertical-align: middle;\n",
       "    }\n",
       "\n",
       "    .dataframe tbody tr th {\n",
       "        vertical-align: top;\n",
       "    }\n",
       "\n",
       "    .dataframe thead th {\n",
       "        text-align: right;\n",
       "    }\n",
       "</style>\n",
       "<table border=\"1\" class=\"dataframe\">\n",
       "  <thead>\n",
       "    <tr style=\"text-align: right;\">\n",
       "      <th></th>\n",
       "      <th>Agency id</th>\n",
       "      <th>Agency name</th>\n",
       "      <th>Location</th>\n",
       "      <th>Service type</th>\n",
       "      <th>User id</th>\n",
       "      <th>Customer name</th>\n",
       "      <th>Review date</th>\n",
       "      <th>Rating</th>\n",
       "      <th>Review type</th>\n",
       "    </tr>\n",
       "  </thead>\n",
       "  <tbody>\n",
       "    <tr>\n",
       "      <th>0</th>\n",
       "      <td>A001</td>\n",
       "      <td>Chang-Fisher</td>\n",
       "      <td>Tammyfort, Iraq</td>\n",
       "      <td>Adventure Travel</td>\n",
       "      <td>R001</td>\n",
       "      <td>Sandra Faulkner</td>\n",
       "      <td>5/5/2023</td>\n",
       "      <td>4</td>\n",
       "      <td>Through despite cause cause believe son would ...</td>\n",
       "    </tr>\n",
       "    <tr>\n",
       "      <th>1</th>\n",
       "      <td>A002</td>\n",
       "      <td>Summers, Barnett and Smith</td>\n",
       "      <td>Claytonmouth, Ecuador</td>\n",
       "      <td>Cruises</td>\n",
       "      <td>R002</td>\n",
       "      <td>Michele Brown</td>\n",
       "      <td>7/12/2024</td>\n",
       "      <td>5</td>\n",
       "      <td>Develop sound central myself before year thems...</td>\n",
       "    </tr>\n",
       "    <tr>\n",
       "      <th>2</th>\n",
       "      <td>A003</td>\n",
       "      <td>Harris, Lloyd and Payne</td>\n",
       "      <td>Seanfurt, Ghana</td>\n",
       "      <td>Adventure Travel</td>\n",
       "      <td>R003</td>\n",
       "      <td>Donna Lopez</td>\n",
       "      <td>12/23/2022</td>\n",
       "      <td>3</td>\n",
       "      <td>Party prevent live bed serious theory.</td>\n",
       "    </tr>\n",
       "    <tr>\n",
       "      <th>3</th>\n",
       "      <td>A004</td>\n",
       "      <td>Kirby Ltd</td>\n",
       "      <td>Masseyhaven, Falkland Islands (Malvinas)</td>\n",
       "      <td>Cruises</td>\n",
       "      <td>R004</td>\n",
       "      <td>Cynthia Lewis</td>\n",
       "      <td>1/9/2024</td>\n",
       "      <td>5</td>\n",
       "      <td>Stay information every manage political record...</td>\n",
       "    </tr>\n",
       "    <tr>\n",
       "      <th>4</th>\n",
       "      <td>A005</td>\n",
       "      <td>Robinson, Montoya and Walters</td>\n",
       "      <td>North Davidborough, New Caledonia</td>\n",
       "      <td>Group Travel</td>\n",
       "      <td>R005</td>\n",
       "      <td>Barbara Davis</td>\n",
       "      <td>5/8/2024</td>\n",
       "      <td>2</td>\n",
       "      <td>Already against which continue buy decision song.</td>\n",
       "    </tr>\n",
       "  </tbody>\n",
       "</table>\n",
       "</div>"
      ],
      "text/plain": [
       "  Agency id                    Agency name  \\\n",
       "0      A001                   Chang-Fisher   \n",
       "1      A002     Summers, Barnett and Smith   \n",
       "2      A003        Harris, Lloyd and Payne   \n",
       "3      A004                      Kirby Ltd   \n",
       "4      A005  Robinson, Montoya and Walters   \n",
       "\n",
       "                                   Location      Service type User id  \\\n",
       "0                           Tammyfort, Iraq  Adventure Travel    R001   \n",
       "1                     Claytonmouth, Ecuador           Cruises    R002   \n",
       "2                           Seanfurt, Ghana  Adventure Travel    R003   \n",
       "3  Masseyhaven, Falkland Islands (Malvinas)           Cruises    R004   \n",
       "4         North Davidborough, New Caledonia      Group Travel    R005   \n",
       "\n",
       "     Customer name Review date  Rating  \\\n",
       "0  Sandra Faulkner    5/5/2023       4   \n",
       "1    Michele Brown   7/12/2024       5   \n",
       "2      Donna Lopez  12/23/2022       3   \n",
       "3    Cynthia Lewis    1/9/2024       5   \n",
       "4    Barbara Davis    5/8/2024       2   \n",
       "\n",
       "                                         Review type  \n",
       "0  Through despite cause cause believe son would ...  \n",
       "1  Develop sound central myself before year thems...  \n",
       "2             Party prevent live bed serious theory.  \n",
       "3  Stay information every manage political record...  \n",
       "4  Already against which continue buy decision song.  "
      ]
     },
     "execution_count": 16,
     "metadata": {},
     "output_type": "execute_result"
    }
   ],
   "source": [
    "#  show First five records \n",
    "df.head()"
   ]
  },
  {
   "cell_type": "code",
   "execution_count": 17,
   "id": "6796b9ae",
   "metadata": {},
   "outputs": [],
   "source": [
    "# Define features (X) and target (Y)\n",
    "X = df[['User id']]  # Adjust based on relevant features\n",
    "Y = df['Rating']  # Target variable"
   ]
  },
  {
   "cell_type": "code",
   "execution_count": 18,
   "id": "d1335380",
   "metadata": {},
   "outputs": [],
   "source": [
    "# Split the data into training and testing sets\n",
    "X_train, X_test, Y_train, Y_test = train_test_split(X, Y, test_size=0.3, random_state=42)"
   ]
  },
  {
   "cell_type": "code",
   "execution_count": 19,
   "id": "39b920d7",
   "metadata": {},
   "outputs": [
    {
     "name": "stdout",
     "output_type": "stream",
     "text": [
      "X_train shape: (700, 1)\n",
      "X_test shape: (300, 1)\n",
      "Y_train shape: (700,)\n",
      "Y_test shape: (300,)\n"
     ]
    }
   ],
   "source": [
    "# Verify the shapes of the splits\n",
    "print(f\"X_train shape: {X_train.shape}\")\n",
    "print(f\"X_test shape: {X_test.shape}\")\n",
    "print(f\"Y_train shape: {Y_train.shape}\")\n",
    "print(f\"Y_test shape: {Y_test.shape}\")"
   ]
  },
  {
   "cell_type": "code",
   "execution_count": 20,
   "id": "683e1501",
   "metadata": {},
   "outputs": [
    {
     "data": {
      "text/plain": [
       "<AxesSubplot:>"
      ]
     },
     "execution_count": 20,
     "metadata": {},
     "output_type": "execute_result"
    },
    {
     "data": {
      "image/png": "[encoded data removed]",
      "text/plain": [
       "<Figure size 432x288 with 1 Axes>"
      ]
     },
     "metadata": {
      "needs_background": "light"
     },
     "output_type": "display_data"
    }
   ],
   "source": [
    "df.plot()"
   ]
  },
  {
   "cell_type": "markdown",
   "id": "7a94651d",
   "metadata": {},
   "source": [
    "# Rating Base Recommendation System"
   ]
  },
  {
   "cell_type": "code",
   "execution_count": 21,
   "id": "080890df",
   "metadata": {},
   "outputs": [
    {
     "data": {
      "text/html": [
       "<div>\n",
       "<style scoped>\n",
       "    .dataframe tbody tr th:only-of-type {\n",
       "        vertical-align: middle;\n",
       "    }\n",
       "\n",
       "    .dataframe tbody tr th {\n",
       "        vertical-align: top;\n",
       "    }\n",
       "\n",
       "    .dataframe thead th {\n",
       "        text-align: right;\n",
       "    }\n",
       "</style>\n",
       "<table border=\"1\" class=\"dataframe\">\n",
       "  <thead>\n",
       "    <tr style=\"text-align: right;\">\n",
       "      <th></th>\n",
       "      <th>Agency id</th>\n",
       "      <th>Agency name</th>\n",
       "      <th>User id</th>\n",
       "      <th>Rating</th>\n",
       "    </tr>\n",
       "  </thead>\n",
       "  <tbody>\n",
       "    <tr>\n",
       "      <th>0</th>\n",
       "      <td>A001</td>\n",
       "      <td>Chang-Fisher</td>\n",
       "      <td>R001</td>\n",
       "      <td>4</td>\n",
       "    </tr>\n",
       "    <tr>\n",
       "      <th>1</th>\n",
       "      <td>A002</td>\n",
       "      <td>Summers, Barnett and Smith</td>\n",
       "      <td>R002</td>\n",
       "      <td>5</td>\n",
       "    </tr>\n",
       "    <tr>\n",
       "      <th>2</th>\n",
       "      <td>A003</td>\n",
       "      <td>Harris, Lloyd and Payne</td>\n",
       "      <td>R003</td>\n",
       "      <td>3</td>\n",
       "    </tr>\n",
       "    <tr>\n",
       "      <th>3</th>\n",
       "      <td>A004</td>\n",
       "      <td>Kirby Ltd</td>\n",
       "      <td>R004</td>\n",
       "      <td>5</td>\n",
       "    </tr>\n",
       "    <tr>\n",
       "      <th>4</th>\n",
       "      <td>A005</td>\n",
       "      <td>Robinson, Montoya and Walters</td>\n",
       "      <td>R005</td>\n",
       "      <td>2</td>\n",
       "    </tr>\n",
       "    <tr>\n",
       "      <th>...</th>\n",
       "      <td>...</td>\n",
       "      <td>...</td>\n",
       "      <td>...</td>\n",
       "      <td>...</td>\n",
       "    </tr>\n",
       "    <tr>\n",
       "      <th>995</th>\n",
       "      <td>A996</td>\n",
       "      <td>Sweeney-Lewis</td>\n",
       "      <td>R996</td>\n",
       "      <td>4</td>\n",
       "    </tr>\n",
       "    <tr>\n",
       "      <th>996</th>\n",
       "      <td>A997</td>\n",
       "      <td>Ponce LLC</td>\n",
       "      <td>R997</td>\n",
       "      <td>1</td>\n",
       "    </tr>\n",
       "    <tr>\n",
       "      <th>997</th>\n",
       "      <td>A998</td>\n",
       "      <td>Johnson LLC</td>\n",
       "      <td>R998</td>\n",
       "      <td>2</td>\n",
       "    </tr>\n",
       "    <tr>\n",
       "      <th>998</th>\n",
       "      <td>A999</td>\n",
       "      <td>Lane, Herrera and Middleton</td>\n",
       "      <td>R999</td>\n",
       "      <td>5</td>\n",
       "    </tr>\n",
       "    <tr>\n",
       "      <th>999</th>\n",
       "      <td>A1000</td>\n",
       "      <td>French-Williams</td>\n",
       "      <td>R1000</td>\n",
       "      <td>3</td>\n",
       "    </tr>\n",
       "  </tbody>\n",
       "</table>\n",
       "<p>1000 rows × 4 columns</p>\n",
       "</div>"
      ],
      "text/plain": [
       "    Agency id                    Agency name User id  Rating\n",
       "0        A001                   Chang-Fisher    R001       4\n",
       "1        A002     Summers, Barnett and Smith    R002       5\n",
       "2        A003        Harris, Lloyd and Payne    R003       3\n",
       "3        A004                      Kirby Ltd    R004       5\n",
       "4        A005  Robinson, Montoya and Walters    R005       2\n",
       "..        ...                            ...     ...     ...\n",
       "995      A996                  Sweeney-Lewis    R996       4\n",
       "996      A997                      Ponce LLC    R997       1\n",
       "997      A998                    Johnson LLC    R998       2\n",
       "998      A999    Lane, Herrera and Middleton    R999       5\n",
       "999     A1000                French-Williams   R1000       3\n",
       "\n",
       "[1000 rows x 4 columns]"
      ]
     },
     "execution_count": 21,
     "metadata": {},
     "output_type": "execute_result"
    }
   ],
   "source": [
    "#Select the required columns for recommendation\n",
    "ratings_df =df[['Agency id','Agency name','User id', 'Rating']]\n",
    "ratings_df"
   ]
  },
  {
   "cell_type": "markdown",
   "id": "97e19bd2",
   "metadata": {},
   "source": [
    "# Applying K-Nearest Neighbour"
   ]
  },
  {
   "cell_type": "code",
   "execution_count": 22,
   "id": "fddf4e3e",
   "metadata": {},
   "outputs": [
    {
     "name": "stdout",
     "output_type": "stream",
     "text": [
      "Predictions: [1 1 1 5 3 1 4 3 2 5 1 5 2 3 1 3 2 4 1 1 2 4 4 2 1 1 3 2 3 1 1 1 3 3 3 3 1\n",
      " 1 3 5 5 4 1 3 4 1 5 5 2 4 3 1 4 4 5 5 3 4 4 3 1 1 2 1 5 3 5 2 4 2 1 2 5 4\n",
      " 1 1 1 2 4 2 1 5 1 4 1 2 1 2 2 5 5 4 2 4 4 5 1 1 5 5 5 2 1 1 4 3 4 1 1 1 4\n",
      " 3 2 3 1 2 1 4 4 1 2 1 2 4 5 2 1 4 2 5 5 2 4 1 4 1 1 1 1 1 1 4 2 2 2 1 1 1\n",
      " 3 5 4 3 4 2 1 1 2 1 5 1 1 2 4 4 2 5 1 1 1 2 5 4 4 4 1 4 4 1 2 1 2 1 1 2 5\n",
      " 5 5 3 1 1 1 1 5 3 1 2 5 1 1 1]\n"
     ]
    },
    {
     "name": "stderr",
     "output_type": "stream",
     "text": [
      "C:\\Users\\HP\\AppData\\Local\\Temp\\ipykernel_12720\\313054179.py:24: SettingWithCopyWarning: \n",
      "A value is trying to be set on a copy of a slice from a DataFrame.\n",
      "Try using .loc[row_indexer,col_indexer] = value instead\n",
      "\n",
      "See the caveats in the documentation: https://pandas.pydata.org/pandas-docs/stable/user_guide/indexing.html#returning-a-view-versus-a-copy\n",
      "  X[column] = le.fit_transform(X[column])\n"
     ]
    }
   ],
   "source": [
    "import pandas as pd\n",
    "from sklearn.neighbors import KNeighborsClassifier\n",
    "from sklearn.preprocessing import LabelEncoder\n",
    "from sklearn.model_selection import train_test_split\n",
    "\n",
    "# Load the data\n",
    "#df = pd.read_csv(r'C:\\Users\\HP\\Desktop\\travel_agencies_reviews_ratings.csv')\n",
    "\n",
    "# Display basic information about the data\n",
    "#df.head(10)\n",
    "\n",
    "# Define training features and target\n",
    "training = ['User id']\n",
    "target = 'Rating'\n",
    "\n",
    "# Create feature and target DataFrames\n",
    "X = df[training]\n",
    "y = df[target]\n",
    "\n",
    "# Initialize LabelEncoders\n",
    "label_encoders = {}\n",
    "for column in training:\n",
    "    le = LabelEncoder()\n",
    "    X[column] = le.fit_transform(X[column])\n",
    "    label_encoders[column] = le\n",
    "\n",
    "# Split data into training and test sets\n",
    "X_train, X_test, y_train, y_test = train_test_split(X, y, test_size=0.2, random_state=42)\n",
    "\n",
    "# Initialize and fit the model\n",
    "model = KNeighborsClassifier(n_neighbors=5)\n",
    "model.fit(X_train, y_train)\n",
    "\n",
    "# Make predictions\n",
    "predicted = model.predict(X_test)\n",
    "print(\"Predictions:\", predicted)"
   ]
  },
  {
   "cell_type": "code",
   "execution_count": 23,
   "id": "3ea98a4a",
   "metadata": {},
   "outputs": [
    {
     "data": {
      "text/plain": [
       "KNeighborsClassifier()"
      ]
     },
     "execution_count": 23,
     "metadata": {},
     "output_type": "execute_result"
    }
   ],
   "source": [
    "from sklearn.neighbors import KNeighborsClassifier\n",
    "\n",
    "model = KNeighborsClassifier(n_neighbors=5)\n",
    "model.fit(X_train, y_train)"
   ]
  },
  {
   "cell_type": "code",
   "execution_count": 24,
   "id": "54b72df3",
   "metadata": {},
   "outputs": [
    {
     "data": {
      "text/plain": [
       "array([1, 1, 1, 5, 3, 1, 4, 3, 2, 5, 1, 5, 2, 3, 1, 3, 2, 4, 1, 1, 2, 4,\n",
       "       4, 2, 1, 1, 3, 2, 3, 1, 1, 1, 3, 3, 3, 3, 1, 1, 3, 5, 5, 4, 1, 3,\n",
       "       4, 1, 5, 5, 2, 4, 3, 1, 4, 4, 5, 5, 3, 4, 4, 3, 1, 1, 2, 1, 5, 3,\n",
       "       5, 2, 4, 2, 1, 2, 5, 4, 1, 1, 1, 2, 4, 2, 1, 5, 1, 4, 1, 2, 1, 2,\n",
       "       2, 5, 5, 4, 2, 4, 4, 5, 1, 1, 5, 5, 5, 2, 1, 1, 4, 3, 4, 1, 1, 1,\n",
       "       4, 3, 2, 3, 1, 2, 1, 4, 4, 1, 2, 1, 2, 4, 5, 2, 1, 4, 2, 5, 5, 2,\n",
       "       4, 1, 4, 1, 1, 1, 1, 1, 1, 4, 2, 2, 2, 1, 1, 1, 3, 5, 4, 3, 4, 2,\n",
       "       1, 1, 2, 1, 5, 1, 1, 2, 4, 4, 2, 5, 1, 1, 1, 2, 5, 4, 4, 4, 1, 4,\n",
       "       4, 1, 2, 1, 2, 1, 1, 2, 5, 5, 5, 3, 1, 1, 1, 1, 5, 3, 1, 2, 5, 1,\n",
       "       1, 1], dtype=int64)"
      ]
     },
     "execution_count": 24,
     "metadata": {},
     "output_type": "execute_result"
    }
   ],
   "source": [
    "predicted= model.predict(X_test) \n",
    "predicted"
   ]
  },
  {
   "cell_type": "markdown",
   "id": "02d8403a",
   "metadata": {},
   "source": [
    "# Accuracy Score Of K-NN"
   ]
  },
  {
   "cell_type": "code",
   "execution_count": 25,
   "id": "c311d995",
   "metadata": {},
   "outputs": [
    {
     "data": {
      "text/plain": [
       "0.185"
      ]
     },
     "execution_count": 25,
     "metadata": {},
     "output_type": "execute_result"
    }
   ],
   "source": [
    "from sklearn.metrics import accuracy_score\n",
    "accuracy_score(predicted, y_test)"
   ]
  },
  {
   "cell_type": "markdown",
   "id": "7105f612",
   "metadata": {},
   "source": [
    "# Logistic Regression"
   ]
  },
  {
   "cell_type": "code",
   "execution_count": 26,
   "id": "c80de2c3",
   "metadata": {},
   "outputs": [
    {
     "data": {
      "text/plain": [
       "LogisticRegression()"
      ]
     },
     "execution_count": 26,
     "metadata": {},
     "output_type": "execute_result"
    }
   ],
   "source": [
    "from sklearn.linear_model import LogisticRegression\n",
    "model = LogisticRegression()\n",
    "model.fit(X_train, y_train)"
   ]
  },
  {
   "cell_type": "code",
   "execution_count": 27,
   "id": "ed63dfa2",
   "metadata": {},
   "outputs": [
    {
     "data": {
      "text/plain": [
       "array([2, 2, 2, 2, 4, 2, 2, 2, 2, 4, 2, 4, 2, 2, 2, 2, 4, 2, 2, 4, 2, 4,\n",
       "       4, 2, 4, 4, 4, 2, 2, 2, 4, 4, 2, 4, 4, 4, 2, 2, 2, 4, 4, 4, 4, 2,\n",
       "       4, 4, 2, 2, 4, 2, 2, 2, 4, 2, 4, 4, 2, 4, 4, 2, 4, 4, 2, 4, 2, 2,\n",
       "       2, 2, 4, 2, 4, 4, 2, 2, 4, 4, 2, 4, 2, 4, 2, 4, 4, 4, 4, 2, 2, 2,\n",
       "       2, 4, 4, 4, 2, 4, 2, 4, 2, 4, 4, 2, 2, 4, 2, 4, 2, 2, 2, 2, 4, 2,\n",
       "       2, 2, 2, 2, 4, 4, 4, 2, 2, 4, 2, 4, 2, 4, 4, 2, 2, 4, 2, 2, 2, 2,\n",
       "       4, 2, 2, 4, 4, 4, 4, 4, 4, 4, 2, 4, 2, 2, 2, 4, 2, 4, 2, 4, 2, 4,\n",
       "       2, 4, 4, 2, 4, 2, 2, 2, 2, 2, 2, 2, 4, 2, 4, 4, 4, 4, 4, 2, 4, 4,\n",
       "       4, 4, 2, 2, 4, 2, 4, 2, 2, 4, 4, 4, 2, 2, 2, 2, 2, 4, 4, 4, 4, 4,\n",
       "       2, 4], dtype=int64)"
      ]
     },
     "execution_count": 27,
     "metadata": {},
     "output_type": "execute_result"
    }
   ],
   "source": [
    "predicted= model.predict(X_test) \n",
    "predicted"
   ]
  },
  {
   "cell_type": "markdown",
   "id": "b5b5f56e",
   "metadata": {},
   "source": [
    "# Acuracy Score Of Logistic Regression"
   ]
  },
  {
   "cell_type": "code",
   "execution_count": 28,
   "id": "bc028b62",
   "metadata": {},
   "outputs": [
    {
     "data": {
      "text/plain": [
       "0.26"
      ]
     },
     "execution_count": 28,
     "metadata": {},
     "output_type": "execute_result"
    }
   ],
   "source": [
    "from sklearn.metrics import accuracy_score\n",
    "accuracy_score(predicted, y_test)"
   ]
  },
  {
   "cell_type": "markdown",
   "id": "d28ee87b",
   "metadata": {},
   "source": [
    "# Decision Tree"
   ]
  },
  {
   "cell_type": "code",
   "execution_count": 29,
   "id": "96544e25",
   "metadata": {},
   "outputs": [
    {
     "data": {
      "text/plain": [
       "DecisionTreeClassifier()"
      ]
     },
     "execution_count": 29,
     "metadata": {},
     "output_type": "execute_result"
    }
   ],
   "source": [
    "from sklearn.tree import DecisionTreeClassifier\n",
    "clf = DecisionTreeClassifier()\n",
    "clf.fit(X_train, y_train)"
   ]
  },
  {
   "cell_type": "code",
   "execution_count": 30,
   "id": "89e63a7a",
   "metadata": {},
   "outputs": [
    {
     "data": {
      "text/plain": [
       "array([1, 1, 4, 5, 2, 1, 4, 3, 2, 5, 1, 3, 2, 3, 2, 3, 3, 5, 4, 3, 2, 4,\n",
       "       5, 5, 4, 1, 1, 4, 2, 4, 1, 5, 5, 3, 4, 3, 1, 1, 5, 5, 5, 4, 1, 4,\n",
       "       1, 5, 3, 4, 5, 3, 3, 3, 4, 4, 2, 5, 5, 4, 4, 4, 1, 5, 2, 1, 2, 5,\n",
       "       3, 2, 1, 5, 1, 2, 3, 1, 3, 3, 4, 2, 5, 3, 5, 2, 1, 4, 5, 2, 2, 2,\n",
       "       3, 2, 5, 2, 2, 1, 5, 2, 1, 4, 5, 3, 2, 2, 1, 5, 4, 4, 4, 1, 1, 1,\n",
       "       4, 5, 3, 4, 1, 1, 4, 4, 2, 5, 5, 1, 1, 1, 3, 4, 1, 4, 3, 2, 5, 2,\n",
       "       4, 4, 4, 1, 5, 4, 5, 4, 5, 5, 3, 2, 2, 4, 1, 4, 3, 3, 1, 3, 3, 2,\n",
       "       1, 1, 5, 1, 4, 1, 3, 3, 4, 4, 2, 5, 4, 2, 2, 1, 4, 3, 4, 2, 1, 5,\n",
       "       2, 1, 5, 1, 4, 1, 1, 5, 5, 5, 4, 1, 5, 1, 1, 5, 5, 5, 1, 2, 5, 1,\n",
       "       2, 5], dtype=int64)"
      ]
     },
     "execution_count": 30,
     "metadata": {},
     "output_type": "execute_result"
    }
   ],
   "source": [
    "predicted= clf.predict(X_test) \n",
    "predicted"
   ]
  },
  {
   "cell_type": "markdown",
   "id": "efce72f9",
   "metadata": {},
   "source": [
    "# Accuracy Score"
   ]
  },
  {
   "cell_type": "code",
   "execution_count": 31,
   "id": "d32eab82",
   "metadata": {},
   "outputs": [
    {
     "data": {
      "text/plain": [
       "0.165"
      ]
     },
     "execution_count": 31,
     "metadata": {},
     "output_type": "execute_result"
    }
   ],
   "source": [
    "from sklearn.metrics import accuracy_score\n",
    "accuracy_score(predicted, y_test)"
   ]
  },
  {
   "cell_type": "markdown",
   "id": "3457ee7f",
   "metadata": {},
   "source": [
    "# Random Forest"
   ]
  },
  {
   "cell_type": "code",
   "execution_count": 32,
   "id": "5a892ec0",
   "metadata": {},
   "outputs": [
    {
     "data": {
      "text/plain": [
       "RandomForestClassifier()"
      ]
     },
     "execution_count": 32,
     "metadata": {},
     "output_type": "execute_result"
    }
   ],
   "source": [
    "from sklearn.ensemble import RandomForestClassifier\n",
    "clf = RandomForestClassifier()\n",
    "clf.fit(X_train, y_train)"
   ]
  },
  {
   "cell_type": "code",
   "execution_count": 33,
   "id": "425ba500",
   "metadata": {},
   "outputs": [
    {
     "data": {
      "text/plain": [
       "array([1, 1, 4, 5, 2, 1, 4, 3, 2, 5, 1, 3, 2, 3, 2, 3, 3, 5, 4, 3, 2, 4,\n",
       "       5, 5, 4, 1, 1, 4, 2, 4, 1, 5, 5, 3, 4, 3, 1, 1, 5, 5, 5, 4, 1, 4,\n",
       "       1, 5, 3, 4, 5, 3, 3, 3, 4, 4, 2, 5, 5, 4, 4, 4, 1, 5, 2, 1, 2, 5,\n",
       "       3, 2, 1, 5, 1, 2, 3, 1, 3, 3, 4, 2, 5, 3, 5, 2, 1, 4, 5, 2, 2, 2,\n",
       "       3, 2, 5, 2, 2, 1, 5, 2, 1, 4, 5, 3, 2, 2, 1, 5, 4, 4, 4, 1, 1, 1,\n",
       "       4, 5, 3, 4, 1, 1, 4, 4, 2, 5, 5, 1, 1, 1, 3, 4, 1, 4, 3, 2, 5, 2,\n",
       "       4, 4, 4, 1, 5, 4, 5, 4, 5, 5, 3, 2, 2, 4, 1, 4, 3, 3, 1, 3, 3, 2,\n",
       "       1, 1, 5, 1, 4, 1, 3, 3, 4, 4, 2, 5, 4, 2, 2, 1, 4, 3, 4, 2, 1, 5,\n",
       "       2, 1, 5, 1, 4, 1, 1, 5, 5, 5, 4, 1, 5, 1, 1, 5, 5, 5, 1, 2, 5, 1,\n",
       "       2, 5], dtype=int64)"
      ]
     },
     "execution_count": 33,
     "metadata": {},
     "output_type": "execute_result"
    }
   ],
   "source": [
    "predicted= clf.predict(X_test) \n",
    "predicted"
   ]
  },
  {
   "cell_type": "markdown",
   "id": "ab8a4f39",
   "metadata": {},
   "source": [
    "# Accuracy Score Of Random Forest"
   ]
  },
  {
   "cell_type": "code",
   "execution_count": 34,
   "id": "bb3d9385",
   "metadata": {},
   "outputs": [
    {
     "data": {
      "text/plain": [
       "0.165"
      ]
     },
     "execution_count": 34,
     "metadata": {},
     "output_type": "execute_result"
    }
   ],
   "source": [
    "from sklearn.metrics import accuracy_score\n",
    "accuracy_score(predicted, y_test)"
   ]
  },
  {
   "cell_type": "markdown",
   "id": "97faf700",
   "metadata": {},
   "source": [
    "# KMeans clustering"
   ]
  },
  {
   "cell_type": "code",
   "execution_count": 35,
   "id": "f42fed09",
   "metadata": {},
   "outputs": [
    {
     "name": "stdout",
     "output_type": "stream",
     "text": [
      "User-Trip Ratings:\n",
      "        Trip1  Trip2  Trip3  Trip4  Trip5\n",
      "User1       4      5      3      5      5\n",
      "User2       2      3      3      3      5\n",
      "User3       4      3      5      2      4\n",
      "User4       2      4      5      1      4\n",
      "User5       2      5      4      1      1\n",
      "User6       3      3      2      4      4\n",
      "User7       3      4      4      1      3\n",
      "User8       5      3      5      1      2\n",
      "User9       4      1      4      2      2\n",
      "User10      1      2      5      2      4\n"
     ]
    },
    {
     "name": "stderr",
     "output_type": "stream",
     "text": [
      "D:\\Users\\HP\\anaconda3\\lib\\site-packages\\sklearn\\cluster\\_kmeans.py:1036: UserWarning: KMeans is known to have a memory leak on Windows with MKL, when there are less chunks than available threads. You can avoid it by setting the environment variable OMP_NUM_THREADS=1.\n",
      "  warnings.warn(\n"
     ]
    },
    {
     "data": {
      "image/png": "[encoded data removed]",
      "text/plain": [
       "<Figure size 432x288 with 1 Axes>"
      ]
     },
     "metadata": {
      "needs_background": "light"
     },
     "output_type": "display_data"
    },
    {
     "data": {
      "image/png": "[encoded data removed]",
      "text/plain": [
       "<Figure size 432x288 with 1 Axes>"
      ]
     },
     "metadata": {
      "needs_background": "light"
     },
     "output_type": "display_data"
    },
    {
     "name": "stdout",
     "output_type": "stream",
     "text": [
      "Top 3 recommendations for User1 based on cluster:\n",
      "Item: Trip2, Average Rating: 5.00\n",
      "Item: Trip4, Average Rating: 5.00\n",
      "Item: Trip5, Average Rating: 5.00\n",
      "Cluster assignments: [4 1 3 0 2 1 2 3 3 0]\n",
      "\n",
      "User User1 is in cluster 4\n",
      "Users in the same cluster:\n",
      "Index(['User1'], dtype='object')\n",
      "Average ratings for this cluster:\n",
      "Trip1    4.0\n",
      "Trip2    5.0\n",
      "Trip3    3.0\n",
      "Trip4    5.0\n",
      "Trip5    5.0\n",
      "dtype: float64\n"
     ]
    }
   ],
   "source": [
    "import numpy as np\n",
    "import pandas as pd\n",
    "from sklearn.cluster import KMeans\n",
    "import matplotlib.pyplot as plt\n",
    "from sklearn.decomposition import PCA\n",
    "\n",
    "# Simulating user-item ratings with random data (10 users and 5 items)\n",
    "np.random.seed(42)\n",
    "user_ratings = pd.DataFrame(np.random.randint(1, 6, size=(10, 5)),\n",
    "                            columns=['Trip1', 'Trip2', 'Trip3', 'Trip4', 'Trip5'],\n",
    "                            index=[f'User{i}' for i in range(1, 11)])\n",
    "\n",
    "print(\"User-Trip Ratings:\")\n",
    "print(user_ratings)\n",
    "\n",
    "# KMeans clustering\n",
    "kmeans = KMeans(n_clusters=5, random_state=42)\n",
    "cluster_labels = kmeans.fit_predict(user_ratings)\n",
    "\n",
    "# Elbow method to find the optimal number of clusters\n",
    "wcss = []\n",
    "max_clusters = 10\n",
    "for num_clusters in range(1, max_clusters + 1):\n",
    "    kmeans = KMeans(n_clusters=num_clusters, random_state=42)\n",
    "    kmeans.fit(user_ratings)\n",
    "    wcss.append(kmeans.inertia_)\n",
    "\n",
    "plt.plot(range(1, max_clusters + 1), wcss)\n",
    "plt.xlabel('Number of clusters')\n",
    "plt.ylabel('WCSS')\n",
    "plt.title('Elbow Method')\n",
    "plt.show()\n",
    "\n",
    "# Visualize the clusters using PCA\n",
    "pca = PCA(n_components=2)\n",
    "reduced_data = pca.fit_transform(user_ratings)\n",
    "plt.scatter(reduced_data[:, 0], reduced_data[:, 1], c=cluster_labels)\n",
    "plt.title('PCA of User Clusters')\n",
    "plt.show()\n",
    "\n",
    "# Example: Get recommendations for a given user based on clustering\n",
    "user_id = 'User1'  # Replace with an actual user ID from your dataset\n",
    "\n",
    "# Get the cluster label for the given user\n",
    "user_cluster_label = cluster_labels[user_ratings.index == user_id][0]\n",
    "\n",
    "# Get all users in the same cluster as the given user\n",
    "users_in_same_cluster = user_ratings.index[cluster_labels == user_cluster_label]\n",
    "\n",
    "# Get the average ratings of the users in the same cluster\n",
    "average_ratings = user_ratings.loc[users_in_same_cluster].mean()\n",
    "\n",
    "# Sort the average ratings in descending order\n",
    "sorted_ratings = average_ratings.sort_values(ascending=False)\n",
    "\n",
    "# Example: Get top-k recommendations\n",
    "k = 3\n",
    "top_k_recommendations = sorted_ratings.head(k)\n",
    "\n",
    "print(f\"Top {k} recommendations for {user_id} based on cluster:\")\n",
    "for item_id, rating in top_k_recommendations.items():\n",
    "    print(f\"Item: {item_id}, Average Rating: {rating:.2f}\")\n",
    "\n",
    "# Print out cluster assignments\n",
    "print(\"Cluster assignments:\", cluster_labels)\n",
    "\n",
    "# Inspect ratings for users in the same cluster as the given user\n",
    "print(f\"\\nUser {user_id} is in cluster {user_cluster_label}\")\n",
    "print(\"Users in the same cluster:\")\n",
    "print(users_in_same_cluster)\n",
    "print(\"Average ratings for this cluster:\")\n",
    "print(average_ratings)"
   ]
  },
  {
   "cell_type": "markdown",
   "id": "686a692a",
   "metadata": {},
   "source": [
    "# **Drive Code With Recommendation**"
   ]
  },
  {
   "cell_type": "code",
   "execution_count": 36,
   "id": "3b782c17",
   "metadata": {},
   "outputs": [
    {
     "name": "stdout",
     "output_type": "stream",
     "text": [
      "User id: R001 Rating: 4\n",
      "User id: R002 Rating: 5\n",
      "User id: R003 Rating: 3\n",
      "User id: R004 Rating: 5\n",
      "User id: R007 Rating: 5\n"
     ]
    }
   ],
   "source": [
    "def recommend_Destinations(ratings_df):\n",
    "    # Filter recommendations system based on minimum rating\n",
    "    filtered_recommendations = ratings_df[ratings_df['Rating'] >= 3].head(5)\n",
    "    return filtered_recommendations\n",
    "\n",
    "recommendations = recommend_Destinations(ratings_df)\n",
    "''\n",
    "if not recommendations.empty:\n",
    "    for index, row in recommendations.iterrows():\n",
    "        print(\"User id:\", row['User id'], \"Rating:\", row['Rating'])\n",
    "else:\n",
    "    print(\"No Recommendations Found.\")"
   ]
  },
  {
   "cell_type": "code",
   "execution_count": 37,
   "id": "8d1e94c0",
   "metadata": {},
   "outputs": [
    {
     "name": "stdout",
     "output_type": "stream",
     "text": [
      "User id: R503 Rating: 5\n",
      "User id: R750 Rating: 5\n",
      "User id: R777 Rating: 5\n",
      "User id: R240 Rating: 5\n",
      "User id: R241 Rating: 5\n"
     ]
    }
   ],
   "source": [
    "def recommend_Destinations(ratings_df):\n",
    "    # Filter recommendations system based on minimum rating\n",
    "    filtered_recommendations = ratings_df[ratings_df['Rating'] >= 3]\n",
    "    # Sort by Rating from highest to lowest\n",
    "    sorted_recommendations = filtered_recommendations.sort_values(by='Rating', ascending=False).head(5)\n",
    "    return sorted_recommendations\n",
    "\n",
    "df = pd.read_csv(r'C:\\Users\\HP\\Desktop\\travel_agencies_reviews_ratings.csv')\n",
    "\n",
    "ratings_df = pd.DataFrame(df)\n",
    "\n",
    "recommendations = recommend_Destinations(ratings_df)\n",
    "\n",
    "if not recommendations.empty:\n",
    "    for index, row in recommendations.iterrows():\n",
    "        print(\"User id:\", row['User id'], \"Rating:\", row['Rating'])\n",
    "else:\n",
    "    print(\"No Recommendations Found.\")"
   ]
  },
  {
   "cell_type": "code",
   "execution_count": 38,
   "id": "0ce5ee66",
   "metadata": {},
   "outputs": [
    {
     "data": {
      "text/html": [
       "<div>\n",
       "<style scoped>\n",
       "    .dataframe tbody tr th:only-of-type {\n",
       "        vertical-align: middle;\n",
       "    }\n",
       "\n",
       "    .dataframe tbody tr th {\n",
       "        vertical-align: top;\n",
       "    }\n",
       "\n",
       "    .dataframe thead th {\n",
       "        text-align: right;\n",
       "    }\n",
       "</style>\n",
       "<table border=\"1\" class=\"dataframe\">\n",
       "  <thead>\n",
       "    <tr style=\"text-align: right;\">\n",
       "      <th></th>\n",
       "      <th>Agency id</th>\n",
       "      <th>Agency name</th>\n",
       "      <th>Location</th>\n",
       "      <th>Service type</th>\n",
       "      <th>User id</th>\n",
       "      <th>Customer name</th>\n",
       "      <th>Review date</th>\n",
       "      <th>Rating</th>\n",
       "      <th>Review type</th>\n",
       "      <th>Response top north method position song husband end town analysis real run special suggest mission stage.</th>\n",
       "      <th>Response date</th>\n",
       "    </tr>\n",
       "  </thead>\n",
       "  <tbody>\n",
       "    <tr>\n",
       "      <th>0</th>\n",
       "      <td>A001</td>\n",
       "      <td>Chang-Fisher</td>\n",
       "      <td>Tammyfort, Iraq</td>\n",
       "      <td>Adventure Travel</td>\n",
       "      <td>R001</td>\n",
       "      <td>Sandra Faulkner</td>\n",
       "      <td>5/5/2023</td>\n",
       "      <td>4</td>\n",
       "      <td>Through despite cause cause believe son would ...</td>\n",
       "      <td>Line beyond its particularly tree whom local t...</td>\n",
       "      <td>3/9/2024</td>\n",
       "    </tr>\n",
       "    <tr>\n",
       "      <th>1</th>\n",
       "      <td>A002</td>\n",
       "      <td>Summers, Barnett and Smith</td>\n",
       "      <td>Claytonmouth, Ecuador</td>\n",
       "      <td>Cruises</td>\n",
       "      <td>R002</td>\n",
       "      <td>Michele Brown</td>\n",
       "      <td>7/12/2024</td>\n",
       "      <td>5</td>\n",
       "      <td>Develop sound central myself before year thems...</td>\n",
       "      <td>NaN</td>\n",
       "      <td>NaN</td>\n",
       "    </tr>\n",
       "    <tr>\n",
       "      <th>2</th>\n",
       "      <td>A003</td>\n",
       "      <td>Harris, Lloyd and Payne</td>\n",
       "      <td>Seanfurt, Ghana</td>\n",
       "      <td>Adventure Travel</td>\n",
       "      <td>R003</td>\n",
       "      <td>Donna Lopez</td>\n",
       "      <td>12/23/2022</td>\n",
       "      <td>3</td>\n",
       "      <td>Party prevent live bed serious theory.</td>\n",
       "      <td>NaN</td>\n",
       "      <td>NaN</td>\n",
       "    </tr>\n",
       "    <tr>\n",
       "      <th>3</th>\n",
       "      <td>A004</td>\n",
       "      <td>Kirby Ltd</td>\n",
       "      <td>Masseyhaven, Falkland Islands (Malvinas)</td>\n",
       "      <td>Cruises</td>\n",
       "      <td>R004</td>\n",
       "      <td>Cynthia Lewis</td>\n",
       "      <td>1/9/2024</td>\n",
       "      <td>5</td>\n",
       "      <td>Stay information every manage political record...</td>\n",
       "      <td>Rule bring determine some forward staff beyond.</td>\n",
       "      <td>3/5/2024</td>\n",
       "    </tr>\n",
       "    <tr>\n",
       "      <th>4</th>\n",
       "      <td>A005</td>\n",
       "      <td>Robinson, Montoya and Walters</td>\n",
       "      <td>North Davidborough, New Caledonia</td>\n",
       "      <td>Group Travel</td>\n",
       "      <td>R005</td>\n",
       "      <td>Barbara Davis</td>\n",
       "      <td>5/8/2024</td>\n",
       "      <td>2</td>\n",
       "      <td>Already against which continue buy decision song.</td>\n",
       "      <td>NaN</td>\n",
       "      <td>NaN</td>\n",
       "    </tr>\n",
       "    <tr>\n",
       "      <th>...</th>\n",
       "      <td>...</td>\n",
       "      <td>...</td>\n",
       "      <td>...</td>\n",
       "      <td>...</td>\n",
       "      <td>...</td>\n",
       "      <td>...</td>\n",
       "      <td>...</td>\n",
       "      <td>...</td>\n",
       "      <td>...</td>\n",
       "      <td>...</td>\n",
       "      <td>...</td>\n",
       "    </tr>\n",
       "    <tr>\n",
       "      <th>995</th>\n",
       "      <td>A996</td>\n",
       "      <td>Sweeney-Lewis</td>\n",
       "      <td>Longshire, Jordan</td>\n",
       "      <td>Custom Itineraries</td>\n",
       "      <td>R996</td>\n",
       "      <td>William Bailey</td>\n",
       "      <td>1/29/2023</td>\n",
       "      <td>4</td>\n",
       "      <td>Each suggest former important later debate pro...</td>\n",
       "      <td>Onto economy raise capital magazine true old c...</td>\n",
       "      <td>5/14/2024</td>\n",
       "    </tr>\n",
       "    <tr>\n",
       "      <th>996</th>\n",
       "      <td>A997</td>\n",
       "      <td>Ponce LLC</td>\n",
       "      <td>New Rachel, Mali</td>\n",
       "      <td>Adventure Travel</td>\n",
       "      <td>R997</td>\n",
       "      <td>Brandy Hernandez</td>\n",
       "      <td>2/10/2024</td>\n",
       "      <td>1</td>\n",
       "      <td>Game worry hear site especially least.</td>\n",
       "      <td>NaN</td>\n",
       "      <td>NaN</td>\n",
       "    </tr>\n",
       "    <tr>\n",
       "      <th>997</th>\n",
       "      <td>A998</td>\n",
       "      <td>Johnson LLC</td>\n",
       "      <td>Matthewbury, Belgium</td>\n",
       "      <td>Group Travel</td>\n",
       "      <td>R998</td>\n",
       "      <td>Max Graves</td>\n",
       "      <td>11/6/2023</td>\n",
       "      <td>2</td>\n",
       "      <td>Character street politics water term inside le...</td>\n",
       "      <td>NaN</td>\n",
       "      <td>NaN</td>\n",
       "    </tr>\n",
       "    <tr>\n",
       "      <th>998</th>\n",
       "      <td>A999</td>\n",
       "      <td>Lane, Herrera and Middleton</td>\n",
       "      <td>North Davidville, Tuvalu</td>\n",
       "      <td>Cruises</td>\n",
       "      <td>R999</td>\n",
       "      <td>Pamela Powers</td>\n",
       "      <td>6/15/2023</td>\n",
       "      <td>5</td>\n",
       "      <td>Management member hospital who produce build.</td>\n",
       "      <td>Read staff second including certainly girl may...</td>\n",
       "      <td>3/26/2024</td>\n",
       "    </tr>\n",
       "    <tr>\n",
       "      <th>999</th>\n",
       "      <td>A1000</td>\n",
       "      <td>French-Williams</td>\n",
       "      <td>Laurenhaven, Montserrat</td>\n",
       "      <td>Group Travel</td>\n",
       "      <td>R1000</td>\n",
       "      <td>Mark Silva</td>\n",
       "      <td>10/16/2022</td>\n",
       "      <td>3</td>\n",
       "      <td>Gun beautiful Mrs fish others future country.</td>\n",
       "      <td>Store lead admit value administration speak so...</td>\n",
       "      <td>3/4/2024</td>\n",
       "    </tr>\n",
       "  </tbody>\n",
       "</table>\n",
       "<p>1000 rows × 11 columns</p>\n",
       "</div>"
      ],
      "text/plain": [
       "    Agency id                    Agency name  \\\n",
       "0        A001                   Chang-Fisher   \n",
       "1        A002     Summers, Barnett and Smith   \n",
       "2        A003        Harris, Lloyd and Payne   \n",
       "3        A004                      Kirby Ltd   \n",
       "4        A005  Robinson, Montoya and Walters   \n",
       "..        ...                            ...   \n",
       "995      A996                  Sweeney-Lewis   \n",
       "996      A997                      Ponce LLC   \n",
       "997      A998                    Johnson LLC   \n",
       "998      A999    Lane, Herrera and Middleton   \n",
       "999     A1000                French-Williams   \n",
       "\n",
       "                                     Location        Service type User id  \\\n",
       "0                             Tammyfort, Iraq    Adventure Travel    R001   \n",
       "1                       Claytonmouth, Ecuador             Cruises    R002   \n",
       "2                             Seanfurt, Ghana    Adventure Travel    R003   \n",
       "3    Masseyhaven, Falkland Islands (Malvinas)             Cruises    R004   \n",
       "4           North Davidborough, New Caledonia        Group Travel    R005   \n",
       "..                                        ...                 ...     ...   \n",
       "995                         Longshire, Jordan  Custom Itineraries    R996   \n",
       "996                          New Rachel, Mali    Adventure Travel    R997   \n",
       "997                      Matthewbury, Belgium        Group Travel    R998   \n",
       "998                  North Davidville, Tuvalu             Cruises    R999   \n",
       "999                   Laurenhaven, Montserrat        Group Travel   R1000   \n",
       "\n",
       "        Customer name Review date  Rating  \\\n",
       "0     Sandra Faulkner    5/5/2023       4   \n",
       "1       Michele Brown   7/12/2024       5   \n",
       "2         Donna Lopez  12/23/2022       3   \n",
       "3       Cynthia Lewis    1/9/2024       5   \n",
       "4       Barbara Davis    5/8/2024       2   \n",
       "..                ...         ...     ...   \n",
       "995    William Bailey   1/29/2023       4   \n",
       "996  Brandy Hernandez   2/10/2024       1   \n",
       "997        Max Graves   11/6/2023       2   \n",
       "998     Pamela Powers   6/15/2023       5   \n",
       "999        Mark Silva  10/16/2022       3   \n",
       "\n",
       "                                           Review type  \\\n",
       "0    Through despite cause cause believe son would ...   \n",
       "1    Develop sound central myself before year thems...   \n",
       "2               Party prevent live bed serious theory.   \n",
       "3    Stay information every manage political record...   \n",
       "4    Already against which continue buy decision song.   \n",
       "..                                                 ...   \n",
       "995  Each suggest former important later debate pro...   \n",
       "996             Game worry hear site especially least.   \n",
       "997  Character street politics water term inside le...   \n",
       "998      Management member hospital who produce build.   \n",
       "999      Gun beautiful Mrs fish others future country.   \n",
       "\n",
       "    Response top north method position song husband end town analysis real run special suggest mission stage.  \\\n",
       "0    Line beyond its particularly tree whom local t...                                                          \n",
       "1                                                  NaN                                                          \n",
       "2                                                  NaN                                                          \n",
       "3      Rule bring determine some forward staff beyond.                                                          \n",
       "4                                                  NaN                                                          \n",
       "..                                                 ...                                                          \n",
       "995  Onto economy raise capital magazine true old c...                                                          \n",
       "996                                                NaN                                                          \n",
       "997                                                NaN                                                          \n",
       "998  Read staff second including certainly girl may...                                                          \n",
       "999  Store lead admit value administration speak so...                                                          \n",
       "\n",
       "    Response date  \n",
       "0        3/9/2024  \n",
       "1             NaN  \n",
       "2             NaN  \n",
       "3        3/5/2024  \n",
       "4             NaN  \n",
       "..            ...  \n",
       "995     5/14/2024  \n",
       "996           NaN  \n",
       "997           NaN  \n",
       "998     3/26/2024  \n",
       "999      3/4/2024  \n",
       "\n",
       "[1000 rows x 11 columns]"
      ]
     },
     "execution_count": 38,
     "metadata": {},
     "output_type": "execute_result"
    }
   ],
   "source": [
    "ratings_df"
   ]
  },
  {
   "cell_type": "code",
   "execution_count": 39,
   "id": "c48c9d3e",
   "metadata": {},
   "outputs": [
    {
     "name": "stdout",
     "output_type": "stream",
     "text": [
      "[[-1.34164079  0.61159284]\n",
      " [-0.4472136  -1.13581527]\n",
      " [ 0.4472136   1.31055608]\n",
      " [ 1.34164079 -0.78633365]]\n"
     ]
    }
   ],
   "source": [
    "# Example data\n",
    "data = [[0, 15], [1, -10], [2, 25], [3, -5]]\n",
    "\n",
    "# Create a transformer object\n",
    "scaler = StandardScaler()\n",
    "\n",
    "# Fit and transform the data\n",
    "scaled_data = scaler.fit_transform(data)\n",
    "\n",
    "print(scaled_data)"
   ]
  },
  {
   "cell_type": "code",
   "execution_count": 40,
   "id": "6fd7c180",
   "metadata": {},
   "outputs": [],
   "source": [
    "# Convert categorical variables to numeric\n",
    "label_encoder = LabelEncoder()\n",
    "X = X.apply(label_encoder.fit_transform)"
   ]
  },
  {
   "cell_type": "code",
   "execution_count": 41,
   "id": "c2593bc5",
   "metadata": {},
   "outputs": [],
   "source": [
    "# Define features (X) and target (Y)\n",
    "X = df[['User id']]  # Adjust based on relevant features\n",
    "Y = df['Rating']  # Target variable"
   ]
  },
  {
   "cell_type": "code",
   "execution_count": 42,
   "id": "db6472fc",
   "metadata": {},
   "outputs": [
    {
     "data": {
      "text/plain": [
       "0      4\n",
       "1      5\n",
       "2      3\n",
       "3      5\n",
       "4      2\n",
       "      ..\n",
       "995    4\n",
       "996    1\n",
       "997    2\n",
       "998    5\n",
       "999    3\n",
       "Name: Rating, Length: 1000, dtype: int64"
      ]
     },
     "execution_count": 42,
     "metadata": {},
     "output_type": "execute_result"
    }
   ],
   "source": [
    "df['Rating']"
   ]
  },
  {
   "cell_type": "markdown",
   "id": "655e198c",
   "metadata": {},
   "source": [
    "# Rating base using kMeans clustering "
   ]
  },
  {
   "cell_type": "code",
   "execution_count": 43,
   "id": "aec2a03c",
   "metadata": {},
   "outputs": [],
   "source": [
    "from sklearn.cluster import KMeans\n",
    "\n",
    "# Select the relevant features for clustering\n",
    "features = df[['Rating']]  # replace with your actual feature names\n",
    "\n",
    "# Apply KMeans clustering\n",
    "kmeans = KMeans(n_clusters=5, random_state=42)\n",
    "cluster_labels = kmeans.fit_predict(features)"
   ]
  },
  {
   "cell_type": "code",
   "execution_count": 44,
   "id": "b7f0cc81",
   "metadata": {},
   "outputs": [
    {
     "name": "stdout",
     "output_type": "stream",
     "text": [
      "    Agency id User id  Rating  cluster\n",
      "0        A001    R001       4        1\n",
      "1        A002    R002       5        3\n",
      "2        A003    R003       3        4\n",
      "3        A004    R004       5        3\n",
      "4        A005    R005       2        0\n",
      "..        ...     ...     ...      ...\n",
      "995      A996    R996       4        1\n",
      "996      A997    R997       1        2\n",
      "997      A998    R998       2        0\n",
      "998      A999    R999       5        3\n",
      "999     A1000   R1000       3        4\n",
      "\n",
      "[1000 rows x 4 columns]\n"
     ]
    }
   ],
   "source": [
    "df['cluster'] = cluster_labels\n",
    "\n",
    "# View the clustered data\n",
    "print(df[['Agency id', 'User id', 'Rating', 'cluster']])  # Adjust columns as needed"
   ]
  },
  {
   "cell_type": "code",
   "execution_count": 45,
   "id": "481bfb40",
   "metadata": {},
   "outputs": [],
   "source": [
    "#Sort the average ratings in descending order\n",
    "sorting_ratings = average_ratings.sort_values(ascending=False)"
   ]
  },
  {
   "cell_type": "code",
   "execution_count": 46,
   "id": "4db05cb3",
   "metadata": {},
   "outputs": [
    {
     "name": "stdout",
     "output_type": "stream",
     "text": [
      "Top 3 recommendations for user User1 :\n",
      "user id: Trip2 Rating: 5.0\n",
      "user id: Trip4 Rating: 5.0\n",
      "user id: Trip5 Rating: 5.0\n"
     ]
    }
   ],
   "source": [
    "# Convert Series to DataFrame (if necessary)\n",
    "top_k_recommendations = sorting_ratings.head(k).reset_index()\n",
    "top_k_recommendations.columns = ['user id', 'Rating']\n",
    "\n",
    "# Print the top_k recommendations\n",
    "print(\"Top\", k, \"recommendations for user\", user_id, \":\")\n",
    "for index, row in top_k_recommendations.iterrows():\n",
    "    print(\"user id:\", row['user id'], \"Rating:\", row['Rating'])"
   ]
  },
  {
   "cell_type": "markdown",
   "id": "bb594e5c",
   "metadata": {},
   "source": [
    "# **User Base Recommendation System**"
   ]
  },
  {
   "cell_type": "markdown",
   "id": "e2aa0986",
   "metadata": {},
   "source": [
    "# Collaberative Filtering"
   ]
  },
  {
   "cell_type": "code",
   "execution_count": 47,
   "id": "ff1bbbcf",
   "metadata": {},
   "outputs": [],
   "source": [
    "import pandas as pd\n",
    "from sklearn.metrics.pairwise import cosine_similarity"
   ]
  },
  {
   "cell_type": "code",
   "execution_count": 48,
   "id": "1adf20f0",
   "metadata": {},
   "outputs": [],
   "source": [
    "df = pd.read_csv(r'C:\\Users\\HP\\Desktop\\travel_agencies_reviews_ratings.csv')\n",
    "df = df.iloc[:10000,:]\n",
    "df = df[['User id', 'Agency id', 'Agency name', 'Rating']]"
   ]
  },
  {
   "cell_type": "code",
   "execution_count": 49,
   "id": "c8dbb256",
   "metadata": {},
   "outputs": [
    {
     "data": {
      "text/html": [
       "<div>\n",
       "<style scoped>\n",
       "    .dataframe tbody tr th:only-of-type {\n",
       "        vertical-align: middle;\n",
       "    }\n",
       "\n",
       "    .dataframe tbody tr th {\n",
       "        vertical-align: top;\n",
       "    }\n",
       "\n",
       "    .dataframe thead th {\n",
       "        text-align: right;\n",
       "    }\n",
       "</style>\n",
       "<table border=\"1\" class=\"dataframe\">\n",
       "  <thead>\n",
       "    <tr style=\"text-align: right;\">\n",
       "      <th></th>\n",
       "      <th>User id</th>\n",
       "      <th>Agency id</th>\n",
       "      <th>Agency name</th>\n",
       "      <th>Rating</th>\n",
       "    </tr>\n",
       "  </thead>\n",
       "  <tbody>\n",
       "    <tr>\n",
       "      <th>0</th>\n",
       "      <td>R001</td>\n",
       "      <td>A001</td>\n",
       "      <td>Chang-Fisher</td>\n",
       "      <td>4</td>\n",
       "    </tr>\n",
       "    <tr>\n",
       "      <th>1</th>\n",
       "      <td>R002</td>\n",
       "      <td>A002</td>\n",
       "      <td>Summers, Barnett and Smith</td>\n",
       "      <td>5</td>\n",
       "    </tr>\n",
       "    <tr>\n",
       "      <th>2</th>\n",
       "      <td>R003</td>\n",
       "      <td>A003</td>\n",
       "      <td>Harris, Lloyd and Payne</td>\n",
       "      <td>3</td>\n",
       "    </tr>\n",
       "  </tbody>\n",
       "</table>\n",
       "</div>"
      ],
      "text/plain": [
       "  User id Agency id                 Agency name  Rating\n",
       "0    R001      A001                Chang-Fisher       4\n",
       "1    R002      A002  Summers, Barnett and Smith       5\n",
       "2    R003      A003     Harris, Lloyd and Payne       3"
      ]
     },
     "execution_count": 49,
     "metadata": {},
     "output_type": "execute_result"
    }
   ],
   "source": [
    "df.head(3)"
   ]
  },
  {
   "cell_type": "code",
   "execution_count": 50,
   "id": "f2d0e1ef",
   "metadata": {},
   "outputs": [
    {
     "name": "stdout",
     "output_type": "stream",
     "text": [
      "User Similarity Scores for Target User: [2.41025466e-01 6.83263519e-01 6.09996658e-01 8.33194912e-01\n",
      " 1.73364654e-01 3.91060608e-01 1.82236088e-01 7.55361410e-01\n",
      " 4.25155874e-01 2.07941663e-01 5.67700328e-01 3.13132925e-02\n",
      " 8.42284775e-01 4.49754133e-01 3.95150236e-01 9.26658866e-01\n",
      " 7.27271996e-01 3.26540769e-01 5.70443974e-01 5.20834260e-01\n",
      " 9.61172024e-01 8.44533849e-01 7.47320110e-01 5.39692132e-01\n",
      " 5.86751166e-01 9.65255307e-01 6.07034248e-01 2.75999182e-01\n",
      " 2.96273506e-01 1.65266939e-01 1.56364067e-02 4.23401481e-01\n",
      " 3.94881518e-01 2.93488175e-01 1.40798227e-02 1.98842404e-01\n",
      " 7.11341953e-01 7.90175541e-01 6.05959975e-01 9.26300879e-01\n",
      " 6.51077026e-01 9.14959676e-01 8.50038578e-01 4.49450674e-01\n",
      " 9.54101165e-02 3.70818252e-01 6.68841253e-01 6.65922357e-01\n",
      " 5.91297788e-01 2.74721793e-01 5.61243426e-01 3.82926875e-01\n",
      " 9.71712095e-01 8.48913824e-01 7.21729521e-01 2.35984920e-01\n",
      " 2.56068323e-01 4.04335895e-02 7.10662890e-01 1.10890821e-01\n",
      " 4.39336502e-01 2.01719202e-01 8.95763596e-01 4.75370223e-01\n",
      " 5.63275572e-01 6.95516086e-01 1.39331454e-01 6.04417379e-01\n",
      " 5.39841091e-01 2.03061225e-01 9.42853571e-01 5.98865466e-01\n",
      " 6.94784933e-01 8.80467839e-01 6.24354048e-01 2.95633686e-01\n",
      " 1.05494260e-01 4.56534570e-01 2.18440437e-01 4.16509948e-01\n",
      " 8.83280259e-01 3.24345021e-01 1.22087955e-01 3.56297838e-01\n",
      " 9.06828442e-01 2.72132249e-01 6.47690121e-01 5.20376995e-04\n",
      " 3.52568856e-01 3.04781258e-01 1.64655853e-01 5.34089419e-01\n",
      " 4.84829971e-01 6.92436033e-01 2.69412334e-01 2.44125522e-01\n",
      " 1.68291042e-01 2.18764220e-01 5.58102002e-01 4.03836171e-01\n",
      " 6.48922471e-02 2.53915414e-01 2.46876063e-01 6.96304273e-01\n",
      " 7.12270590e-01 1.48086930e-01 9.97740485e-01 2.66781014e-01\n",
      " 9.76614956e-01 4.11037013e-01 3.30507329e-02 3.45071248e-01\n",
      " 6.34351345e-01 6.80705452e-01 5.30934583e-01 4.47783165e-01\n",
      " 5.52893089e-01 5.92696724e-01 8.08533263e-02 3.69654456e-01\n",
      " 2.42159938e-01 8.03139756e-01 4.70300634e-01 9.83423141e-01\n",
      " 3.98824442e-01 8.16431873e-01 7.98345125e-01 1.50717544e-01\n",
      " 5.08198777e-01 6.95812807e-01 8.58358805e-01 3.25958905e-01\n",
      " 2.20241048e-01 7.11149532e-01 8.09501046e-01 3.48665987e-01\n",
      " 9.61765511e-02 9.40523264e-01 3.97572021e-01 5.17751351e-01\n",
      " 8.37710106e-01 6.75690117e-01 7.35216119e-01 2.09071621e-01\n",
      " 5.41447974e-01 6.95784399e-01 2.28550022e-01 1.74954927e-01\n",
      " 9.82168343e-01 5.16635891e-01 2.60829175e-01 9.96253700e-01\n",
      " 9.65419351e-01 5.58293454e-01 8.82636343e-01 1.88707108e-01\n",
      " 2.78871353e-01 7.00357830e-01 8.46661142e-01 8.56324292e-01\n",
      " 4.04508127e-01 8.87770099e-01 8.50928449e-01 9.35634994e-01\n",
      " 7.85340651e-01 6.68988255e-01 5.80686621e-01 3.72282767e-01\n",
      " 9.40133442e-01 9.73663837e-01 2.83920975e-01 3.05363860e-01\n",
      " 4.85613754e-01 4.48424143e-01 9.94457463e-01 1.75925253e-01\n",
      " 1.80753636e-02 4.93893715e-01 1.78822709e-01 3.66468785e-01\n",
      " 7.44170523e-01 7.20939924e-01 3.08060792e-01 5.42540231e-01\n",
      " 5.08814077e-01 6.36332618e-01 2.50461819e-01 5.89870848e-01\n",
      " 9.78892858e-01 4.86742153e-01 9.06098788e-01 4.34394366e-01\n",
      " 3.50078408e-01 6.45103362e-01 6.68924060e-01 8.64167565e-01\n",
      " 2.30185268e-01 4.99193380e-01 5.72004199e-01 7.68554014e-01\n",
      " 4.36037718e-02 9.94550511e-01 4.69944514e-01 2.79560342e-01\n",
      " 8.83494022e-01 7.47718774e-01 9.53071847e-01 3.30750305e-01\n",
      " 5.52764967e-01 5.72292469e-01 9.80331584e-01 7.53462560e-02\n",
      " 3.05697019e-01 1.90911031e-01 2.68474857e-01 4.85279874e-01\n",
      " 3.72686867e-01 3.94691467e-01 8.44213141e-01 9.30016835e-01\n",
      " 7.04161308e-02 2.08918718e-01 6.71143517e-01 3.58646781e-01\n",
      " 2.54163649e-01 2.95290588e-01 3.22550764e-01 8.48669795e-01\n",
      " 1.36621331e-01 7.08910997e-01 5.52819977e-01 2.96510144e-01\n",
      " 4.19780856e-01 2.56206944e-01 6.11513711e-01 8.15941804e-02\n",
      " 5.18486277e-03 6.27894415e-01 1.94273954e-01 7.09409170e-02\n",
      " 3.96783827e-01 5.07685310e-02 8.86617149e-01 2.76167719e-02\n",
      " 5.78864896e-01 4.38474123e-01 6.72026135e-01 3.28152667e-01\n",
      " 1.55041617e-01 9.81840888e-01 8.38933502e-01 8.60404618e-01\n",
      " 2.50251361e-01 3.88347344e-02 3.03265515e-01 5.37082427e-01\n",
      " 3.26651242e-01 8.27869004e-01 2.71542916e-01 9.65251830e-01\n",
      " 4.57265162e-01 8.42023075e-01 1.94380034e-01 4.11353905e-01\n",
      " 6.99512211e-01 1.38353092e-01 1.32745422e-01 9.69536867e-01\n",
      " 7.14595104e-01 4.10675168e-02 3.98820901e-01 4.33520738e-01\n",
      " 7.44042643e-01 2.50860527e-01 1.84333674e-01 8.08729666e-02\n",
      " 4.28314475e-01 6.88499901e-01 5.81935955e-02 9.15213728e-01\n",
      " 4.42352230e-01 2.39787359e-01 9.38732901e-02 1.82865997e-01\n",
      " 9.34613997e-01 6.38270594e-01 5.16696257e-01 6.57111329e-01\n",
      " 4.35672899e-01 7.30039317e-01 4.77161277e-02 5.66037210e-01\n",
      " 1.58646448e-01 1.20164648e-01 3.41879667e-01 9.17990658e-02\n",
      " 9.41569883e-02 3.11413309e-01 9.79510529e-01 1.75330270e-01\n",
      " 1.71611018e-02 7.63364423e-01 8.06912977e-01 3.46304321e-01\n",
      " 4.64673813e-01 6.49773683e-01 4.80589242e-02 9.49145732e-01\n",
      " 8.86680387e-01 2.60893623e-01 1.53045403e-02 9.33436308e-01\n",
      " 5.01039884e-01 5.39377448e-01 6.83963769e-01 6.15851164e-01\n",
      " 9.43891605e-01 9.44251597e-01 8.67198934e-01 6.36403597e-01\n",
      " 8.00949295e-01 6.77168342e-01 5.73367042e-01 1.28500353e-01\n",
      " 8.11204177e-01 8.20639476e-01 6.25939670e-01 8.20426844e-01\n",
      " 6.51484772e-01 2.06684360e-01 2.73961127e-01 2.14589120e-01\n",
      " 3.77259083e-01 3.89631323e-02 6.18253884e-01 3.36554215e-01\n",
      " 6.55722635e-01 3.85396621e-01 6.81613669e-01 3.40624569e-01\n",
      " 2.60694528e-01 4.96037454e-01 6.92890359e-01 3.48336604e-01\n",
      " 9.36648152e-01 3.91863267e-02 4.17946032e-01 9.67580552e-01\n",
      " 5.47971883e-01 4.23470942e-01 5.68520284e-01 5.75924575e-01\n",
      " 7.31647755e-01 1.27689729e-01 2.50016449e-01 5.80544012e-01\n",
      " 8.67116607e-01 5.61866692e-01 2.38596860e-01 6.79844780e-01\n",
      " 7.39908760e-01 2.38236152e-01 3.77728886e-01 5.34327474e-01\n",
      " 4.96561191e-01 3.89618086e-01 2.97635175e-01 9.99848872e-02\n",
      " 5.34852967e-02 9.58541497e-01 8.47143144e-01 3.54905190e-01\n",
      " 9.56800885e-01 6.76769904e-01 4.82520950e-01 4.93025658e-01\n",
      " 8.32844112e-02 9.17041473e-02 6.02440926e-01 5.53703052e-01\n",
      " 2.12727895e-01 9.46194543e-01 7.81296050e-01 1.13464602e-01\n",
      " 9.30929106e-01 9.74248209e-01 9.95931242e-01 5.58711547e-02\n",
      " 7.37035557e-01 5.45915770e-01 7.05831484e-01 9.68651944e-01\n",
      " 6.88030010e-01 8.36963874e-01 8.66868705e-01 8.38480764e-01\n",
      " 4.26091475e-01 2.22576418e-01 3.96651602e-01 8.91896909e-01\n",
      " 1.46604822e-01 5.13326169e-01 2.33228072e-01 5.81305417e-01\n",
      " 8.63138522e-01 8.80359969e-01 2.36685194e-01 9.07693706e-01\n",
      " 5.91888739e-01 3.50218247e-01 7.08181196e-01 4.81666988e-01\n",
      " 3.77987590e-01 7.05084364e-01 2.48724154e-01 3.30252529e-01\n",
      " 4.34451844e-01 2.53682174e-01 4.05202087e-01 5.71473025e-01\n",
      " 7.40973861e-01 7.67194853e-01 8.22790352e-01 7.44211657e-01\n",
      " 6.81039427e-01 2.37506471e-01 4.00222893e-01 4.77714891e-01\n",
      " 8.28913217e-02 5.28370121e-01 4.36335832e-01 8.02109249e-01\n",
      " 9.77900669e-01 5.56005039e-01 3.22686388e-01 4.34007833e-02\n",
      " 9.24643330e-01 9.19115715e-01 2.52990168e-01 6.95411123e-01\n",
      " 7.54345471e-02 1.66215432e-01 2.16809107e-01 2.94493947e-01\n",
      " 9.95831375e-01 6.96925056e-01 3.84201831e-01 7.37100706e-01\n",
      " 9.15254342e-01 9.58702407e-01 5.78638978e-02 3.94521799e-01\n",
      " 1.06756066e-01 3.35660065e-01 1.69679904e-01 6.46848362e-01\n",
      " 3.88268384e-01 2.29394746e-01 2.65937925e-01 3.60345095e-01\n",
      " 2.59949863e-01 4.53240847e-01 3.23159511e-02 2.79763507e-01\n",
      " 4.11206721e-01 6.02781882e-01 2.70957643e-01 1.33185125e-01\n",
      " 7.62003796e-02 9.40531827e-01 4.16639058e-01 5.81162621e-01\n",
      " 9.19176552e-01 8.27484200e-02 8.76661486e-01 5.51587873e-01\n",
      " 1.64834261e-01 4.11255117e-01 7.77602284e-01 4.80370082e-01\n",
      " 9.85286051e-01 3.76738970e-01 7.49578300e-01 3.92989449e-01\n",
      " 8.29164221e-01 5.69081469e-01 6.35118296e-02 3.68218676e-02\n",
      " 1.33852119e-01 1.36719648e-02 7.53590604e-02 6.91714397e-01\n",
      " 5.34346275e-01 7.49910749e-01 9.13165752e-01 5.85149532e-01\n",
      " 7.26120844e-01 7.57081202e-01 3.77850549e-01 2.41084832e-01\n",
      " 2.05045329e-01 2.51442440e-01 2.74731797e-01 2.07227649e-01\n",
      " 8.78220667e-01 7.56999132e-01 4.68964678e-02 2.68672482e-01\n",
      " 2.21847420e-02 4.98165187e-01 4.76210697e-01 8.31371490e-01\n",
      " 3.07777240e-01 8.16385735e-01 9.67973765e-01 8.84082234e-02\n",
      " 7.91817839e-01 5.89955897e-01 4.80045967e-01 4.20535779e-01\n",
      " 7.84668264e-01 6.39361357e-01 8.05044668e-01 9.03151059e-01\n",
      " 6.17263712e-01 9.80462725e-01 6.08087850e-01 6.36644322e-01\n",
      " 5.54815609e-01 9.10020911e-02 7.26397033e-01 5.47446307e-01\n",
      " 4.50910447e-01 9.10471278e-01 2.97959452e-01 5.23602276e-01\n",
      " 6.97641871e-01 7.96471776e-01 4.59346808e-01 8.42091415e-01\n",
      " 7.68917741e-01 6.62359779e-02 4.58612664e-02 6.20805684e-01\n",
      " 3.47413408e-01 2.09130791e-01 5.79649934e-01 3.41563210e-01\n",
      " 5.37263417e-01 4.60119159e-01 5.84766106e-01 4.00300489e-01\n",
      " 6.97667574e-01 1.80067272e-01 6.96501466e-01 4.11661214e-01\n",
      " 8.74317605e-01 5.15236055e-01 9.73110349e-01 6.01935396e-01\n",
      " 2.23849066e-01 8.21790637e-01 3.45082628e-01 3.47619214e-01\n",
      " 3.18046815e-02 5.48715309e-01 5.34423504e-01 3.55991484e-01\n",
      " 8.94217263e-01 1.28748398e-01 3.30099513e-01 3.21582765e-01\n",
      " 9.22905862e-02 4.81145394e-01 6.87784717e-01 5.11657014e-01\n",
      " 1.56977683e-01 3.77285965e-01 2.59502438e-03 8.68301107e-01\n",
      " 8.45170077e-02 5.97278082e-01 9.86256996e-01 5.36590646e-01\n",
      " 9.24041759e-01 2.36116533e-01 7.59955409e-01 5.31265754e-01\n",
      " 7.20516061e-01 6.23413625e-02 1.47739092e-01 1.33116929e-01\n",
      " 6.87165505e-01 8.44440673e-01 7.49616232e-01 3.04721527e-02\n",
      " 8.67214981e-01 3.54146671e-01 3.97163833e-01 1.04869167e-01\n",
      " 7.37405206e-01 1.82283878e-01 5.63965092e-01 8.40709986e-01\n",
      " 8.92043287e-02 5.35335564e-01 2.33216412e-01 3.42926864e-01\n",
      " 4.73969941e-01 3.55104303e-01 6.48822840e-01 4.79582102e-01\n",
      " 5.84199485e-01 7.36822475e-01 5.57742266e-01 5.86535435e-01\n",
      " 5.64458543e-01 3.78772626e-01 3.37446834e-01 8.99647397e-01\n",
      " 6.07555222e-01 2.44353155e-01 4.98247698e-01 3.30348481e-01\n",
      " 9.33691824e-01 7.53436313e-03 2.25332798e-01 3.65356820e-01\n",
      " 4.87809801e-01 8.50817518e-01 8.78876245e-02 8.05864887e-01\n",
      " 5.56534894e-02 8.42314035e-01 5.16354779e-02 1.82424814e-02\n",
      " 6.96961462e-01 9.97255535e-01 8.96610263e-01 5.75998418e-01\n",
      " 9.17395613e-01 5.30000640e-03 9.75067163e-01 4.90748779e-01\n",
      " 7.22896097e-01 8.20861473e-01 7.18457271e-01 5.35036732e-01\n",
      " 4.76619484e-01 8.38582559e-01 2.05077560e-01 9.67994067e-01\n",
      " 7.10952479e-01 1.99506927e-01 7.36247184e-01 5.29840023e-01\n",
      " 7.07230096e-01 7.67779501e-01 8.72901796e-02 5.06103956e-01\n",
      " 9.32014342e-01 3.20642192e-01 5.93883098e-01 3.69230482e-01\n",
      " 4.54267972e-01 5.48603118e-01 5.48921980e-01 2.01730462e-01\n",
      " 6.84571548e-01 8.78681112e-02 1.38824773e-01 2.71089941e-03\n",
      " 1.16696064e-01 4.73166201e-01 6.06101881e-01 7.94289450e-01\n",
      " 1.06699250e-01 8.50727460e-01 7.45974526e-01 4.08518293e-01\n",
      " 9.32938067e-01 9.90929476e-01 2.05001810e-01 3.79228585e-01\n",
      " 9.26449424e-01 7.21596551e-01 4.80946440e-02 7.81514482e-01\n",
      " 8.27940887e-01 7.50501925e-01 7.99537131e-01 8.25132677e-01\n",
      " 1.86404987e-01 2.35691746e-01 6.33758564e-01 9.07866130e-01\n",
      " 3.16196582e-01 5.88306676e-01 6.82982063e-01 4.51948601e-01\n",
      " 7.13782455e-01 8.99667445e-01 6.24101544e-01 5.39781062e-01\n",
      " 4.38744675e-01 5.77486271e-01 3.55362452e-01 3.91482110e-01\n",
      " 5.31857480e-01 6.66191124e-02 2.29025391e-01 5.42849311e-01\n",
      " 4.31528143e-01 3.32815786e-01 7.30549137e-01 6.93717607e-01\n",
      " 1.66730760e-01 8.78629115e-01 4.95423626e-01 7.41460911e-01\n",
      " 5.73150849e-01 9.97692616e-01 7.52403120e-01 7.06980461e-01\n",
      " 7.78571939e-01 1.43127986e-01 2.04544593e-01 7.14064082e-01\n",
      " 4.93981487e-01 7.54635292e-01 1.02916031e-01 5.36481351e-01\n",
      " 3.78821566e-01 4.57000219e-01 6.03957872e-01 5.02288347e-01\n",
      " 5.39860637e-01 4.86357482e-01 4.08955177e-01 7.71881981e-01\n",
      " 1.22030723e-02 5.98442701e-01 5.65508347e-01 7.16179075e-01\n",
      " 5.99029365e-01 8.26798828e-01 9.59074795e-01 3.42524257e-01\n",
      " 2.27350983e-01 4.23596862e-01 2.87929616e-01 6.14950263e-01\n",
      " 9.11852409e-01 1.39116194e-01 1.00794603e-01 2.56015532e-01\n",
      " 7.26095586e-01 5.92962905e-01 1.02212664e-01 9.18750522e-01\n",
      " 7.90084637e-01 2.30226048e-02 6.51367211e-01 7.71246669e-01\n",
      " 3.74435370e-01 6.89215394e-02 7.73210655e-02 1.04246966e-01\n",
      " 8.40439632e-01 9.10686198e-01 1.22810782e-01 2.35906035e-01\n",
      " 1.65520510e-01 1.86320879e-01 8.37490789e-01 3.32146413e-01\n",
      " 3.11444264e-01 2.27395621e-01 6.07894394e-01 3.79305698e-01\n",
      " 7.44249652e-01 2.05579808e-01 7.87789889e-01 6.03721532e-01\n",
      " 1.14267300e-01 4.14504584e-01 8.63518141e-01 9.22960232e-01\n",
      " 4.65700122e-01 4.80836978e-01 9.18454725e-01 5.87068224e-01\n",
      " 3.28466702e-02 9.12749463e-01 2.48226443e-01 5.77631954e-01\n",
      " 1.65513317e-01 3.38791602e-02 3.11473171e-01 7.80495708e-01\n",
      " 2.77587173e-01 2.20097214e-01 2.12680784e-01 5.15173682e-01\n",
      " 9.75541316e-01 4.58988988e-01 5.57305369e-01 8.60632018e-01\n",
      " 5.35069719e-01 1.84462871e-01 2.99595912e-01 3.09936926e-01\n",
      " 3.97318115e-01 4.26788905e-01 7.99782022e-01 3.49386999e-01\n",
      " 4.68231828e-01 6.24975987e-01 3.77725947e-01 8.36564813e-01\n",
      " 5.87453604e-01 2.94044679e-01 7.14059200e-01 5.27647730e-01\n",
      " 5.34455891e-01 4.81087948e-01 4.97011949e-01 7.65356281e-01\n",
      " 1.02981479e-01 3.34362811e-01 7.55033638e-02 7.53246221e-01\n",
      " 2.72301855e-01 8.97430410e-01 5.26578467e-01 8.00749771e-01\n",
      " 9.78931436e-01 8.39788859e-01 8.66993760e-01 4.07984495e-01\n",
      " 5.51722595e-01 2.53888564e-01 1.96113100e-01 5.05507879e-01\n",
      " 5.95048980e-01 3.39271246e-01 5.69443518e-01 8.87460483e-01\n",
      " 5.56721585e-01 7.20813096e-01 8.05314967e-01 9.88728782e-01\n",
      " 6.03197402e-01 8.06850149e-01 9.62649319e-01 9.44409726e-01\n",
      " 1.41081849e-01 4.06392308e-01 3.23990061e-01 8.69250150e-02\n",
      " 6.33240775e-01 7.35904613e-01 8.48128095e-01 1.22776890e-01\n",
      " 8.76444076e-01 6.42925564e-01 7.03946135e-01 9.10624004e-01\n",
      " 6.24761271e-01 3.35865857e-01 8.25107331e-01 3.63059212e-01\n",
      " 3.42281108e-02 8.30654507e-01 3.45192145e-01 7.73834523e-01\n",
      " 3.62757895e-01 8.61068020e-01 2.19510525e-01 9.74547265e-01\n",
      " 7.79758775e-01 1.14237926e-01 5.65776620e-01 9.85367312e-01\n",
      " 4.71065453e-01 1.82107139e-01 4.84778367e-01 5.12457656e-01\n",
      " 7.41686944e-01 6.98845853e-01 4.02550044e-01 2.18023107e-01\n",
      " 6.45054168e-01 4.21703935e-01 1.32276211e-01 9.00572301e-01\n",
      " 6.91221858e-01 6.83183856e-01 8.22583876e-01 5.29661679e-01\n",
      " 8.15054428e-01 4.98090754e-01 6.71753999e-02 4.05248088e-01\n",
      " 4.97464894e-01 7.20202582e-01 1.06578730e-01 1.40018539e-01\n",
      " 2.63683803e-01 2.66498393e-01 7.32184578e-01 2.50730661e-01\n",
      " 6.33098063e-01 4.94273850e-01 5.73294378e-01 8.38106963e-01\n",
      " 4.04381502e-01 7.70911377e-01 4.22036060e-01 3.53871377e-01\n",
      " 9.58627177e-01 1.84370921e-01 9.03369606e-02 7.70985926e-01\n",
      " 6.82497054e-02 8.37078991e-01 4.37193396e-01 9.15513677e-01\n",
      " 7.21532861e-01 6.10404667e-01 9.49306797e-01 3.96649373e-01\n",
      " 9.54086937e-01 1.35001277e-01 4.83754942e-01 2.69911222e-01\n",
      " 5.39842779e-01 1.62013878e-01 8.41529660e-01 8.46407849e-01\n",
      " 9.55236313e-01 1.54672141e-01 6.23332551e-01 4.74237309e-01\n",
      " 3.44383732e-01 3.51540161e-01 4.12793551e-01 7.04925550e-01\n",
      " 5.98286058e-01 4.59681513e-01 7.59334104e-02 7.77653441e-02\n",
      " 2.33939063e-03 9.67699388e-01 5.25381856e-03 1.03093746e-01\n",
      " 3.14596557e-01 8.07430252e-01 9.62098786e-01 7.90013559e-01\n",
      " 6.90560232e-01 5.21300667e-01 8.67052119e-02 9.58170793e-01\n",
      " 7.58392414e-01 6.38949385e-01 7.59035846e-01 7.24103329e-01\n",
      " 6.37231580e-01 9.80576800e-01 9.03363813e-01 6.46664919e-01\n",
      " 6.93175211e-01 5.15958067e-02 6.69917465e-01 4.41654377e-02\n",
      " 5.88263757e-01 9.99353500e-01 5.55806581e-01 4.73210118e-01\n",
      " 3.12854857e-01 1.20522579e-01 7.31023671e-01 1.92599028e-01\n",
      " 1.15282021e-01 4.21762660e-01 7.95341838e-01 7.45064548e-01\n",
      " 5.48826146e-02 4.55143685e-01 5.22434576e-01 6.44546651e-01\n",
      " 6.50167350e-01 3.64697249e-01 5.60677194e-01 4.81061884e-01\n",
      " 8.84998357e-01 5.30265133e-01 4.41032162e-01 4.04485450e-01]\n"
     ]
    }
   ],
   "source": [
    "import pandas as pd\n",
    "import numpy as np\n",
    "\n",
    "# Load or create user-item matrix\n",
    "user_item_matrix = pd.read_csv(r'C:\\Users\\HP\\Desktop\\travel_agencies_reviews_ratings.csv', index_col=0)  # Load actual data\n",
    "\n",
    "# Generate a random user similarity matrix\n",
    "num_users = len(user_item_matrix)\n",
    "user_similarity = np.random.rand(num_users, num_users)\n",
    "\n",
    "# Assuming the target user is the first user\n",
    "target_user_index = 0\n",
    "\n",
    "# Get the similarity scores for the target user\n",
    "target_user_similarity_scores = user_similarity[target_user_index]\n",
    "\n",
    "print(\"User Similarity Scores for Target User:\", target_user_similarity_scores)"
   ]
  },
  {
   "cell_type": "code",
   "execution_count": 51,
   "id": "bd500a40",
   "metadata": {},
   "outputs": [
    {
     "name": "stdout",
     "output_type": "stream",
     "text": [
      "Target user index: A001\n",
      "Neighbor indices: [231 172 180 798 981 595 762 904 261 632 459 118 745  35 578  90 877 962\n",
      " 287  26 606 996 488  94 190 847  87 490 609 681 630 549 115 226 149 925\n",
      " 997 886 514 160 903 678 298 723 221 944 224  68 907 519 123 905 415  93\n",
      " 352  92 510 322 225 950   3 737 503 621 568  10 361 920  14 191 471 748\n",
      " 229 144 205 892 143  27 930 775 354  77 278 718 230 542 243 121 482 457\n",
      "  43 600 263 397 956 138 507 251 771 400 460 294 439   8 168 734 463 587\n",
      " 957 784 590 852 146 512 576 803 527 260 787 849  62 562 277 393 703 215\n",
      " 922 358 342 874 162 152 547 671  46 470 114 343 429 936 933 878 761 167\n",
      " 767 565 711 790 173 593 235 264 932   0 968 581 725 574 994 571 862 417\n",
      " 942 236 899 662 676 117 961 500 668  72 952  56 104 832 556 909 246 431\n",
      " 366 498  89 475 598 315 155 247 721  76 773 746 633 555 262 209 551 895\n",
      " 169 259 238 289 808 339 594  79 796 406 708 629 646 573 692 176 418 867\n",
      " 409 133 675 444 327 402 661 317 253 504  82 717 868 792  38 735 270 758\n",
      " 185 780 332 523 848 213 525 800 864 214 187 756 699 434 381 232 754 272\n",
      " 884 923 364 854 779 291 937 428 742 276  13 157 702 420 722 669 487 348\n",
      " 893 870 200  33 665 244 335 763 819 998 241 170 875 776 288 383  44 283\n",
      " 255 651 871 888 223 314 844  15 374 975 747 279 715 330  17 249 410 976\n",
      " 125 685 505  29 788 989 379 856 707 611 388 684  70 753 972 435 142 132\n",
      "  45 690 897 174 376 467 456 619 586 477  98 865 495 749 489 517 386 436\n",
      " 959 987 112 237 100 804 116 693  95 535 107 452 566 919 929  41 560 744\n",
      " 970 303 297 202 948 894 570 197 982 405 340 781 544 355 304 626   6   1\n",
      " 969 815 642 965 328 122 740 951 271 729 726 398 422 145 999 286 697 926\n",
      " 631 363 809 370 743 533 980 564 207 799 520 135 945 553 539 645 124 990\n",
      " 461 313 256 648 677 813  37 918 988  84 293 974 391  52 454  74 635 353\n",
      " 206 165 516 284 385  49  18 869 658 316 113 466 730  19  20 274 694  32\n",
      " 329 910 468 958 491 728 188 508 885 158 208 480 827 404 445 766 759 449\n",
      " 915 351 810 851 620 817 455 881 616 401 120 365 485 423 624  16 700 308\n",
      "  28 464 720  71 710 109 337 139 546 451 346  47 515 136 786 199 359 367\n",
      " 639 210 382  48 531 350 184 579 300  78  42 338 137 521 171 802 634 147\n",
      " 887 612 741 657 682  50 301 859  36 377 569 101 543 419 368 111 333 591\n",
      " 806 258 774  53 373  58  60 499 108 902 433 141 201 811 106 414 818 324\n",
      " 843 102 960 660 134 425 605 306 292 863 992  31 793 596 966  40 396 701\n",
      " 769 198 320  61 850 846 789 483  86 222 325 777 427 252 861 421 845 689\n",
      " 794 828 712 561 233 469 652 211 607 733 411 567 971 248 751 625 228 305\n",
      "  96 967 963 943 357 602 834 986 563 610 795 559  66 833 242  63 823 356\n",
      " 791 360 526 362 713 513 312 949 736 807 430 783 873 732 908 416  55 636\n",
      "  12 212 540 341 812 916 770 714 537 496 592 584 716 432 458 977 709 983\n",
      "  85 131 538 757 797 622 656 331 838 446   5 597 234 550 156 502 589   7\n",
      " 821 478 580 727 691 479 220  88 842 696 395 604  73 628 614 554 724 518\n",
      " 934 268 641 906 872 403 670 216 472 345  65 267 536 497 282 442 321 638\n",
      " 193 266 424 192 649 912 663 985 307 290 913 163 879 240 890 254 528 659\n",
      " 438 148 552 921  64 876 175 245 618 119 927 493 836 738 755  39 837 973\n",
      " 706   9 883 413  11 161 824  91 150 183 891 309 273 953 731 219 582 704\n",
      " 204 768 935 840 698 939  24 599 486 760 177 323 826 705 650 608 295  83\n",
      " 511 653 637 831 655 154 347 801 310 280 390  97 805 318 644 575 217 993\n",
      " 465  69 778 719 408 752 371 853 407 194 524 664 588  23 829   2 189 218\n",
      " 296 947 882 687 900 534 387 239 153 127 447 765  57 880 481 782 384 103\n",
      " 269 509 814 453 911 666 195 858  51 683 673 835 984 164 917 448 772 344\n",
      " 889 623 140 227 181 617 334 529 506 901  54 667 940 572 178 110 128 437\n",
      " 979   4 857 680 928  99 311 820 603 392 816 441 369 679 182 250  21  59\n",
      " 545 484 375 946 130 647 855 440 825 615  67 866 978 739 995 494 203 955\n",
      "  75 924 530 822 443 964 640 898 522 265 196 601 399 654 954 860 372 285\n",
      " 378 557 839 319 151 474 643 938 394 577 380 389 281 462 501 585  25 558\n",
      " 257 349 672 688 299 473 931 686 426 896 764 275 914 785 830 548 412 841\n",
      " 674 541 476 302 326 627 129 991 336 941 695 532  22  34 159 179  80  81\n",
      "  30 105 166 750 126 450 613 492 583]\n"
     ]
    }
   ],
   "source": [
    "# Example user similarity matrix as a numpy array\n",
    "user_similarity = np.random.rand(len(user_item_matrix), len(user_item_matrix))\n",
    "\n",
    "# Assuming the target user is the first user in the user_item_matrix\n",
    "target_user_index = user_item_matrix.index[0]\n",
    "\n",
    "# Convert the target_user_index to an integer index for the numpy array\n",
    "target_user_index_int = user_item_matrix.index.get_loc(target_user_index)\n",
    "\n",
    "# Get similarity scores for the target user\n",
    "similarity_scores = user_similarity[target_user_index_int]\n",
    "\n",
    "# Sort indices of similar users in descending order and exclude the target user itself\n",
    "neighbor_indices = np.argsort(similarity_scores)[::-1][1:]\n",
    "\n",
    "print(\"Target user index:\", target_user_index)\n",
    "print(\"Neighbor indices:\", neighbor_indices)"
   ]
  },
  {
   "cell_type": "code",
   "execution_count": 52,
   "id": "58ded15b",
   "metadata": {},
   "outputs": [
    {
     "name": "stdout",
     "output_type": "stream",
     "text": [
      "Recommended Tours:\n",
      "Empty DataFrame\n",
      "Columns: []\n",
      "Index: [A001, A002, A003, A004, A005, A006, A007, A008, A009, A010]\n"
     ]
    }
   ],
   "source": [
    "# Initialize list to store recommended items\n",
    "recommended_items = []\n",
    "\n",
    "# Iterate through neighbor indices and find recommended items\n",
    "for neighbor_index in neighbor_indices:\n",
    "    neighbor_ratings = user_item_matrix.iloc[neighbor_index]\n",
    "    target_user_ratings = user_item_matrix.iloc[target_user_index_int]\n",
    "    \n",
    "    # Find items that the neighbor has rated highly but the target user has not\n",
    "    recommended_indices = [\n",
    "        i for i, rating in enumerate(neighbor_ratings)\n",
    "        if isinstance(rating, (int, float)) and rating > 4 \n",
    "        and isinstance(target_user_ratings.iloc[i], (int, float)) \n",
    "        and target_user_ratings.iloc[i] == 0\n",
    "    ]\n",
    "    \n",
    "    # Add the recommended tour names to the list\n",
    "    recommended_items.extend(user_item_matrix.columns[recommended_indices])\n",
    "\n",
    "# Filter the user_item_matrix to include only the recommended items\n",
    "recommended_df = user_item_matrix[recommended_items]\n",
    "\n",
    "# Display only the first 10 recommended tours\n",
    "recommended_df = recommended_df.head(10)\n",
    "\n",
    "print(\"Recommended Tours:\")\n",
    "print(recommended_df)"
   ]
  },
  {
   "cell_type": "code",
   "execution_count": 53,
   "id": "3587a30e",
   "metadata": {},
   "outputs": [
    {
     "data": {
      "text/html": [
       "<div>\n",
       "<style scoped>\n",
       "    .dataframe tbody tr th:only-of-type {\n",
       "        vertical-align: middle;\n",
       "    }\n",
       "\n",
       "    .dataframe tbody tr th {\n",
       "        vertical-align: top;\n",
       "    }\n",
       "\n",
       "    .dataframe thead th {\n",
       "        text-align: right;\n",
       "    }\n",
       "</style>\n",
       "<table border=\"1\" class=\"dataframe\">\n",
       "  <thead>\n",
       "    <tr style=\"text-align: right;\">\n",
       "      <th></th>\n",
       "    </tr>\n",
       "    <tr>\n",
       "      <th>Agency id</th>\n",
       "    </tr>\n",
       "  </thead>\n",
       "  <tbody>\n",
       "    <tr>\n",
       "      <th>A001</th>\n",
       "    </tr>\n",
       "    <tr>\n",
       "      <th>A002</th>\n",
       "    </tr>\n",
       "    <tr>\n",
       "      <th>A003</th>\n",
       "    </tr>\n",
       "    <tr>\n",
       "      <th>A004</th>\n",
       "    </tr>\n",
       "    <tr>\n",
       "      <th>A005</th>\n",
       "    </tr>\n",
       "    <tr>\n",
       "      <th>A006</th>\n",
       "    </tr>\n",
       "    <tr>\n",
       "      <th>A007</th>\n",
       "    </tr>\n",
       "    <tr>\n",
       "      <th>A008</th>\n",
       "    </tr>\n",
       "    <tr>\n",
       "      <th>A009</th>\n",
       "    </tr>\n",
       "    <tr>\n",
       "      <th>A010</th>\n",
       "    </tr>\n",
       "  </tbody>\n",
       "</table>\n",
       "</div>"
      ],
      "text/plain": [
       "Empty DataFrame\n",
       "Columns: []\n",
       "Index: [A001, A002, A003, A004, A005, A006, A007, A008, A009, A010]"
      ]
     },
     "execution_count": 53,
     "metadata": {},
     "output_type": "execute_result"
    }
   ],
   "source": [
    "recommended_df.head(10)"
   ]
  },
  {
   "cell_type": "code",
   "execution_count": null,
   "id": "562262fd",
   "metadata": {},
   "outputs": [],
   "source": []
  },
  {
   "cell_type": "code",
   "execution_count": null,
   "id": "0bc2a4b8",
   "metadata": {},
   "outputs": [],
   "source": []
  },
  {
   "cell_type": "code",
   "execution_count": null,
   "id": "c24ec9dd",
   "metadata": {},
   "outputs": [],
   "source": []
  }
 ],
 "metadata": {
  "kernelspec": {
   "display_name": "Python 3 (ipykernel)",
   "language": "python",
   "name": "python3"
  },
  "language_info": {
   "codemirror_mode": {
    "name": "ipython",
    "version": 3
   },
   "file_extension": ".py",
   "mimetype": "text/x-python",
   "name": "python",
   "nbconvert_exporter": "python",
   "pygments_lexer": "ipython3",
   "version": "3.9.12"
  }
 },
 "nbformat": 4,
 "nbformat_minor": 5
}
